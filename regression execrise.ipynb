{
 "cells": [
  {
   "cell_type": "markdown",
   "metadata": {},
   "source": [
    "## Regression workbook\n",
    "\n",
    "We want to predict the *Average Price* of a pumpkin"
   ]
  },
  {
   "cell_type": "markdown",
   "metadata": {},
   "source": [
    "Import Neccessary Libraries\n"
   ]
  },
  {
   "cell_type": "code",
   "execution_count": 75,
   "metadata": {},
   "outputs": [],
   "source": [
    "import pandas as pd\n",
    "import numpy as np\n",
    "import matplotlib.pyplot as plt\n",
    "import seaborn as sns\n"
   ]
  },
  {
   "cell_type": "markdown",
   "metadata": {},
   "source": [
    "Read in all the CSV files"
   ]
  },
  {
   "cell_type": "code",
   "execution_count": 98,
   "metadata": {},
   "outputs": [],
   "source": [
    "atlanta = pd.read_csv('archive/atlanta_9-24-2016_9-30-2017.csv')\n",
    "baltimore = pd.read_csv('archive/baltimore_9-24-2016_9-30-2017.csv')\n",
    "boston = pd.read_csv('archive/boston_9-24-2016_9-30-2017.csv')\n",
    "chicago = pd.read_csv('archive/chicago_9-24-2016_9-30-2017.csv')\n",
    "columbia = pd.read_csv('archive/columbia_9-24-2016_9-30-2017.csv')\n",
    "dallas = pd.read_csv('archive/dallas_9-24-2016_9-30-2017.csv')"
   ]
  },
  {
   "cell_type": "code",
   "execution_count": 99,
   "metadata": {},
   "outputs": [],
   "source": [
    "detroit = pd.read_csv('archive/detroit_9-24-2016_9-30-2017.csv')\n",
    "los_angeles = pd.read_csv('archive/los-angeles_9-24-2016_9-30-2017.csv')\n",
    "miami = pd.read_csv('archive/miami_9-24-2016_9-30-2017.csv')\n",
    "new_york = pd.read_csv('archive/new-york_9-24-2016_9-30-2017.csv')\n",
    "philadelphia =pd.read_csv('archive/philadelphia_9-24-2016_9-30-2017.csv')\n",
    "san_fransisco = pd.read_csv('archive/san-fransisco_9-24-2016_9-30-2017.csv')\n",
    "st_louis =pd.read_csv('archive/st-louis_9-24-2016_9-30-2017.csv')\n"
   ]
  },
  {
   "cell_type": "code",
   "execution_count": 304,
   "metadata": {},
   "outputs": [
    {
     "data": {
      "text/plain": [
       "(1645, 29)"
      ]
     },
     "execution_count": 304,
     "metadata": {},
     "output_type": "execute_result"
    }
   ],
   "source": [
    "#merge all datesets \n",
    "\n",
    "pumpkins = pd.concat([atlanta,baltimore,boston,chicago,columbia,dallas,detroit,los_angeles,miami,philadelphia,san_fransisco,st_louis],\n",
    " ignore_index= True)\n",
    "pumpkins.shape\n"
   ]
  },
  {
   "cell_type": "code",
   "execution_count": 162,
   "metadata": {},
   "outputs": [
    {
     "data": {
      "text/plain": [
       "BOSTON           352\n",
       "COLUMBIA         263\n",
       "CHICAGO          248\n",
       "SAN FRANCISCO    166\n",
       "BALTIMORE        153\n",
       "DALLAS           137\n",
       "ST. LOUIS        103\n",
       "LOS ANGELES       62\n",
       "ATLANTA           57\n",
       "PHILADELPHIA      57\n",
       "DETROIT           44\n",
       "MIAMI              3\n",
       "Name: City Name, dtype: int64"
      ]
     },
     "execution_count": 162,
     "metadata": {},
     "output_type": "execute_result"
    }
   ],
   "source": [
    "#check the value counts of each city\n",
    "\n",
    "pumpkins['City Name'].value_counts()\n"
   ]
  },
  {
   "cell_type": "markdown",
   "metadata": {},
   "source": [
    "Clean Dataset"
   ]
  },
  {
   "cell_type": "code",
   "execution_count": 163,
   "metadata": {},
   "outputs": [
    {
     "name": "stdout",
     "output_type": "stream",
     "text": [
      "<class 'pandas.core.frame.DataFrame'>\n",
      "RangeIndex: 1645 entries, 0 to 1644\n",
      "Data columns (total 29 columns):\n",
      " #   Column           Non-Null Count  Dtype  \n",
      "---  ------           --------------  -----  \n",
      " 0   Commodity Name   1645 non-null   object \n",
      " 1   City Name        1645 non-null   object \n",
      " 2   Type             45 non-null     object \n",
      " 3   Package          1645 non-null   object \n",
      " 4   Variety          1640 non-null   object \n",
      " 5   Sub Variety      278 non-null    object \n",
      " 6   Grade            0 non-null      float64\n",
      " 7   Date             1645 non-null   object \n",
      " 8   Low Price        1645 non-null   float64\n",
      " 9   High Price       1645 non-null   float64\n",
      " 10  Mostly Low       1542 non-null   float64\n",
      " 11  Mostly High      1542 non-null   float64\n",
      " 12  Origin           1640 non-null   object \n",
      " 13  Origin District  116 non-null    object \n",
      " 14  Item Size        1374 non-null   object \n",
      " 15  Color            695 non-null    object \n",
      " 16  Environment      0 non-null      float64\n",
      " 17  Unit of Sale     137 non-null    object \n",
      " 18  Quality          0 non-null      float64\n",
      " 19  Condition        0 non-null      float64\n",
      " 20  Appearance       0 non-null      float64\n",
      " 21  Storage          0 non-null      float64\n",
      " 22  Crop             0 non-null      float64\n",
      " 23  Repack           1645 non-null   object \n",
      " 24  Trans Mode       0 non-null      float64\n",
      " 25  Offerings        0 non-null      float64\n",
      " 26  Market Tone      103 non-null    object \n",
      " 27  Price Comment    0 non-null      float64\n",
      " 28  Comments         0 non-null      float64\n",
      "dtypes: float64(15), object(14)\n",
      "memory usage: 372.8+ KB\n"
     ]
    }
   ],
   "source": [
    "pumpkins.info()"
   ]
  },
  {
   "cell_type": "code",
   "execution_count": 164,
   "metadata": {},
   "outputs": [
    {
     "data": {
      "text/html": [
       "<div>\n",
       "<style scoped>\n",
       "    .dataframe tbody tr th:only-of-type {\n",
       "        vertical-align: middle;\n",
       "    }\n",
       "\n",
       "    .dataframe tbody tr th {\n",
       "        vertical-align: top;\n",
       "    }\n",
       "\n",
       "    .dataframe thead th {\n",
       "        text-align: right;\n",
       "    }\n",
       "</style>\n",
       "<table border=\"1\" class=\"dataframe\">\n",
       "  <thead>\n",
       "    <tr style=\"text-align: right;\">\n",
       "      <th></th>\n",
       "      <th>Commodity Name</th>\n",
       "      <th>City Name</th>\n",
       "      <th>Type</th>\n",
       "      <th>Package</th>\n",
       "      <th>Variety</th>\n",
       "      <th>Sub Variety</th>\n",
       "      <th>Grade</th>\n",
       "      <th>Date</th>\n",
       "      <th>Low Price</th>\n",
       "      <th>High Price</th>\n",
       "      <th>...</th>\n",
       "      <th>Condition</th>\n",
       "      <th>Appearance</th>\n",
       "      <th>Storage</th>\n",
       "      <th>Crop</th>\n",
       "      <th>Repack</th>\n",
       "      <th>Trans Mode</th>\n",
       "      <th>Offerings</th>\n",
       "      <th>Market Tone</th>\n",
       "      <th>Price Comment</th>\n",
       "      <th>Comments</th>\n",
       "    </tr>\n",
       "  </thead>\n",
       "  <tbody>\n",
       "    <tr>\n",
       "      <th>0</th>\n",
       "      <td>PUMPKINS</td>\n",
       "      <td>ATLANTA</td>\n",
       "      <td>NaN</td>\n",
       "      <td>24 inch bins</td>\n",
       "      <td>HOWDEN TYPE</td>\n",
       "      <td>NaN</td>\n",
       "      <td>NaN</td>\n",
       "      <td>09/24/2016</td>\n",
       "      <td>140.0</td>\n",
       "      <td>154.75</td>\n",
       "      <td>...</td>\n",
       "      <td>NaN</td>\n",
       "      <td>NaN</td>\n",
       "      <td>NaN</td>\n",
       "      <td>NaN</td>\n",
       "      <td>N</td>\n",
       "      <td>NaN</td>\n",
       "      <td>NaN</td>\n",
       "      <td>NaN</td>\n",
       "      <td>NaN</td>\n",
       "      <td>NaN</td>\n",
       "    </tr>\n",
       "    <tr>\n",
       "      <th>1</th>\n",
       "      <td>PUMPKINS</td>\n",
       "      <td>ATLANTA</td>\n",
       "      <td>NaN</td>\n",
       "      <td>24 inch bins</td>\n",
       "      <td>HOWDEN TYPE</td>\n",
       "      <td>NaN</td>\n",
       "      <td>NaN</td>\n",
       "      <td>09/24/2016</td>\n",
       "      <td>145.0</td>\n",
       "      <td>154.75</td>\n",
       "      <td>...</td>\n",
       "      <td>NaN</td>\n",
       "      <td>NaN</td>\n",
       "      <td>NaN</td>\n",
       "      <td>NaN</td>\n",
       "      <td>N</td>\n",
       "      <td>NaN</td>\n",
       "      <td>NaN</td>\n",
       "      <td>NaN</td>\n",
       "      <td>NaN</td>\n",
       "      <td>NaN</td>\n",
       "    </tr>\n",
       "    <tr>\n",
       "      <th>2</th>\n",
       "      <td>PUMPKINS</td>\n",
       "      <td>ATLANTA</td>\n",
       "      <td>NaN</td>\n",
       "      <td>24 inch bins</td>\n",
       "      <td>HOWDEN TYPE</td>\n",
       "      <td>NaN</td>\n",
       "      <td>NaN</td>\n",
       "      <td>09/24/2016</td>\n",
       "      <td>150.0</td>\n",
       "      <td>154.75</td>\n",
       "      <td>...</td>\n",
       "      <td>NaN</td>\n",
       "      <td>NaN</td>\n",
       "      <td>NaN</td>\n",
       "      <td>NaN</td>\n",
       "      <td>N</td>\n",
       "      <td>NaN</td>\n",
       "      <td>NaN</td>\n",
       "      <td>NaN</td>\n",
       "      <td>NaN</td>\n",
       "      <td>NaN</td>\n",
       "    </tr>\n",
       "    <tr>\n",
       "      <th>3</th>\n",
       "      <td>PUMPKINS</td>\n",
       "      <td>ATLANTA</td>\n",
       "      <td>NaN</td>\n",
       "      <td>24 inch bins</td>\n",
       "      <td>HOWDEN TYPE</td>\n",
       "      <td>NaN</td>\n",
       "      <td>NaN</td>\n",
       "      <td>09/24/2016</td>\n",
       "      <td>150.0</td>\n",
       "      <td>150.00</td>\n",
       "      <td>...</td>\n",
       "      <td>NaN</td>\n",
       "      <td>NaN</td>\n",
       "      <td>NaN</td>\n",
       "      <td>NaN</td>\n",
       "      <td>N</td>\n",
       "      <td>NaN</td>\n",
       "      <td>NaN</td>\n",
       "      <td>NaN</td>\n",
       "      <td>NaN</td>\n",
       "      <td>NaN</td>\n",
       "    </tr>\n",
       "    <tr>\n",
       "      <th>4</th>\n",
       "      <td>PUMPKINS</td>\n",
       "      <td>ATLANTA</td>\n",
       "      <td>NaN</td>\n",
       "      <td>24 inch bins</td>\n",
       "      <td>HOWDEN TYPE</td>\n",
       "      <td>NaN</td>\n",
       "      <td>NaN</td>\n",
       "      <td>10/01/2016</td>\n",
       "      <td>140.0</td>\n",
       "      <td>154.75</td>\n",
       "      <td>...</td>\n",
       "      <td>NaN</td>\n",
       "      <td>NaN</td>\n",
       "      <td>NaN</td>\n",
       "      <td>NaN</td>\n",
       "      <td>N</td>\n",
       "      <td>NaN</td>\n",
       "      <td>NaN</td>\n",
       "      <td>NaN</td>\n",
       "      <td>NaN</td>\n",
       "      <td>NaN</td>\n",
       "    </tr>\n",
       "  </tbody>\n",
       "</table>\n",
       "<p>5 rows × 29 columns</p>\n",
       "</div>"
      ],
      "text/plain": [
       "  Commodity Name City Name Type       Package      Variety Sub Variety  Grade  \\\n",
       "0       PUMPKINS   ATLANTA  NaN  24 inch bins  HOWDEN TYPE         NaN    NaN   \n",
       "1       PUMPKINS   ATLANTA  NaN  24 inch bins  HOWDEN TYPE         NaN    NaN   \n",
       "2       PUMPKINS   ATLANTA  NaN  24 inch bins  HOWDEN TYPE         NaN    NaN   \n",
       "3       PUMPKINS   ATLANTA  NaN  24 inch bins  HOWDEN TYPE         NaN    NaN   \n",
       "4       PUMPKINS   ATLANTA  NaN  24 inch bins  HOWDEN TYPE         NaN    NaN   \n",
       "\n",
       "         Date  Low Price  High Price  ...  Condition  Appearance Storage Crop  \\\n",
       "0  09/24/2016      140.0      154.75  ...        NaN         NaN     NaN  NaN   \n",
       "1  09/24/2016      145.0      154.75  ...        NaN         NaN     NaN  NaN   \n",
       "2  09/24/2016      150.0      154.75  ...        NaN         NaN     NaN  NaN   \n",
       "3  09/24/2016      150.0      150.00  ...        NaN         NaN     NaN  NaN   \n",
       "4  10/01/2016      140.0      154.75  ...        NaN         NaN     NaN  NaN   \n",
       "\n",
       "  Repack Trans Mode  Offerings Market Tone  Price Comment  Comments  \n",
       "0      N        NaN        NaN         NaN            NaN       NaN  \n",
       "1      N        NaN        NaN         NaN            NaN       NaN  \n",
       "2      N        NaN        NaN         NaN            NaN       NaN  \n",
       "3      N        NaN        NaN         NaN            NaN       NaN  \n",
       "4      N        NaN        NaN         NaN            NaN       NaN  \n",
       "\n",
       "[5 rows x 29 columns]"
      ]
     },
     "execution_count": 164,
     "metadata": {},
     "output_type": "execute_result"
    }
   ],
   "source": [
    "pumpkins.head()"
   ]
  },
  {
   "cell_type": "code",
   "execution_count": 165,
   "metadata": {},
   "outputs": [
    {
     "data": {
      "text/html": [
       "<div>\n",
       "<style scoped>\n",
       "    .dataframe tbody tr th:only-of-type {\n",
       "        vertical-align: middle;\n",
       "    }\n",
       "\n",
       "    .dataframe tbody tr th {\n",
       "        vertical-align: top;\n",
       "    }\n",
       "\n",
       "    .dataframe thead th {\n",
       "        text-align: right;\n",
       "    }\n",
       "</style>\n",
       "<table border=\"1\" class=\"dataframe\">\n",
       "  <thead>\n",
       "    <tr style=\"text-align: right;\">\n",
       "      <th></th>\n",
       "      <th>Commodity Name</th>\n",
       "      <th>City Name</th>\n",
       "      <th>Type</th>\n",
       "      <th>Package</th>\n",
       "      <th>Variety</th>\n",
       "      <th>Sub Variety</th>\n",
       "      <th>Grade</th>\n",
       "      <th>Date</th>\n",
       "      <th>Low Price</th>\n",
       "      <th>High Price</th>\n",
       "      <th>...</th>\n",
       "      <th>Condition</th>\n",
       "      <th>Appearance</th>\n",
       "      <th>Storage</th>\n",
       "      <th>Crop</th>\n",
       "      <th>Repack</th>\n",
       "      <th>Trans Mode</th>\n",
       "      <th>Offerings</th>\n",
       "      <th>Market Tone</th>\n",
       "      <th>Price Comment</th>\n",
       "      <th>Comments</th>\n",
       "    </tr>\n",
       "  </thead>\n",
       "  <tbody>\n",
       "    <tr>\n",
       "      <th>1640</th>\n",
       "      <td>PUMPKINS</td>\n",
       "      <td>ST. LOUIS</td>\n",
       "      <td>NaN</td>\n",
       "      <td>22 lb cartons</td>\n",
       "      <td>MINIATURE</td>\n",
       "      <td>FLAT TYPE</td>\n",
       "      <td>NaN</td>\n",
       "      <td>09/30/2016</td>\n",
       "      <td>14.75</td>\n",
       "      <td>14.75</td>\n",
       "      <td>...</td>\n",
       "      <td>NaN</td>\n",
       "      <td>NaN</td>\n",
       "      <td>NaN</td>\n",
       "      <td>NaN</td>\n",
       "      <td>N</td>\n",
       "      <td>NaN</td>\n",
       "      <td>NaN</td>\n",
       "      <td>LOWER.</td>\n",
       "      <td>NaN</td>\n",
       "      <td>NaN</td>\n",
       "    </tr>\n",
       "    <tr>\n",
       "      <th>1641</th>\n",
       "      <td>PUMPKINS</td>\n",
       "      <td>ST. LOUIS</td>\n",
       "      <td>NaN</td>\n",
       "      <td>36 inch bins</td>\n",
       "      <td>MINIATURE</td>\n",
       "      <td>ROUND TYPE</td>\n",
       "      <td>NaN</td>\n",
       "      <td>09/26/2016</td>\n",
       "      <td>275.00</td>\n",
       "      <td>275.00</td>\n",
       "      <td>...</td>\n",
       "      <td>NaN</td>\n",
       "      <td>NaN</td>\n",
       "      <td>NaN</td>\n",
       "      <td>NaN</td>\n",
       "      <td>N</td>\n",
       "      <td>NaN</td>\n",
       "      <td>NaN</td>\n",
       "      <td>LOWER.</td>\n",
       "      <td>NaN</td>\n",
       "      <td>NaN</td>\n",
       "    </tr>\n",
       "    <tr>\n",
       "      <th>1642</th>\n",
       "      <td>PUMPKINS</td>\n",
       "      <td>ST. LOUIS</td>\n",
       "      <td>NaN</td>\n",
       "      <td>36 inch bins</td>\n",
       "      <td>MINIATURE</td>\n",
       "      <td>ROUND TYPE</td>\n",
       "      <td>NaN</td>\n",
       "      <td>09/27/2016</td>\n",
       "      <td>275.00</td>\n",
       "      <td>275.00</td>\n",
       "      <td>...</td>\n",
       "      <td>NaN</td>\n",
       "      <td>NaN</td>\n",
       "      <td>NaN</td>\n",
       "      <td>NaN</td>\n",
       "      <td>N</td>\n",
       "      <td>NaN</td>\n",
       "      <td>NaN</td>\n",
       "      <td>STEADY.</td>\n",
       "      <td>NaN</td>\n",
       "      <td>NaN</td>\n",
       "    </tr>\n",
       "    <tr>\n",
       "      <th>1643</th>\n",
       "      <td>PUMPKINS</td>\n",
       "      <td>ST. LOUIS</td>\n",
       "      <td>NaN</td>\n",
       "      <td>36 inch bins</td>\n",
       "      <td>MINIATURE</td>\n",
       "      <td>ROUND TYPE</td>\n",
       "      <td>NaN</td>\n",
       "      <td>09/28/2016</td>\n",
       "      <td>275.00</td>\n",
       "      <td>275.00</td>\n",
       "      <td>...</td>\n",
       "      <td>NaN</td>\n",
       "      <td>NaN</td>\n",
       "      <td>NaN</td>\n",
       "      <td>NaN</td>\n",
       "      <td>N</td>\n",
       "      <td>NaN</td>\n",
       "      <td>NaN</td>\n",
       "      <td>ABOUT STEADY.</td>\n",
       "      <td>NaN</td>\n",
       "      <td>NaN</td>\n",
       "    </tr>\n",
       "    <tr>\n",
       "      <th>1644</th>\n",
       "      <td>PUMPKINS</td>\n",
       "      <td>ST. LOUIS</td>\n",
       "      <td>NaN</td>\n",
       "      <td>36 inch bins</td>\n",
       "      <td>MINIATURE</td>\n",
       "      <td>ROUND TYPE</td>\n",
       "      <td>NaN</td>\n",
       "      <td>09/29/2016</td>\n",
       "      <td>275.00</td>\n",
       "      <td>275.00</td>\n",
       "      <td>...</td>\n",
       "      <td>NaN</td>\n",
       "      <td>NaN</td>\n",
       "      <td>NaN</td>\n",
       "      <td>NaN</td>\n",
       "      <td>N</td>\n",
       "      <td>NaN</td>\n",
       "      <td>NaN</td>\n",
       "      <td>MINIATURE LOWER, OTHERS STEADY.</td>\n",
       "      <td>NaN</td>\n",
       "      <td>NaN</td>\n",
       "    </tr>\n",
       "  </tbody>\n",
       "</table>\n",
       "<p>5 rows × 29 columns</p>\n",
       "</div>"
      ],
      "text/plain": [
       "     Commodity Name  City Name Type        Package    Variety Sub Variety  \\\n",
       "1640       PUMPKINS  ST. LOUIS  NaN  22 lb cartons  MINIATURE   FLAT TYPE   \n",
       "1641       PUMPKINS  ST. LOUIS  NaN   36 inch bins  MINIATURE  ROUND TYPE   \n",
       "1642       PUMPKINS  ST. LOUIS  NaN   36 inch bins  MINIATURE  ROUND TYPE   \n",
       "1643       PUMPKINS  ST. LOUIS  NaN   36 inch bins  MINIATURE  ROUND TYPE   \n",
       "1644       PUMPKINS  ST. LOUIS  NaN   36 inch bins  MINIATURE  ROUND TYPE   \n",
       "\n",
       "      Grade        Date  Low Price  High Price  ...  Condition  Appearance  \\\n",
       "1640    NaN  09/30/2016      14.75       14.75  ...        NaN         NaN   \n",
       "1641    NaN  09/26/2016     275.00      275.00  ...        NaN         NaN   \n",
       "1642    NaN  09/27/2016     275.00      275.00  ...        NaN         NaN   \n",
       "1643    NaN  09/28/2016     275.00      275.00  ...        NaN         NaN   \n",
       "1644    NaN  09/29/2016     275.00      275.00  ...        NaN         NaN   \n",
       "\n",
       "     Storage Crop Repack Trans Mode  Offerings  \\\n",
       "1640     NaN  NaN      N        NaN        NaN   \n",
       "1641     NaN  NaN      N        NaN        NaN   \n",
       "1642     NaN  NaN      N        NaN        NaN   \n",
       "1643     NaN  NaN      N        NaN        NaN   \n",
       "1644     NaN  NaN      N        NaN        NaN   \n",
       "\n",
       "                          Market Tone  Price Comment  Comments  \n",
       "1640                           LOWER.            NaN       NaN  \n",
       "1641                           LOWER.            NaN       NaN  \n",
       "1642                          STEADY.            NaN       NaN  \n",
       "1643                    ABOUT STEADY.            NaN       NaN  \n",
       "1644  MINIATURE LOWER, OTHERS STEADY.            NaN       NaN  \n",
       "\n",
       "[5 rows x 29 columns]"
      ]
     },
     "execution_count": 165,
     "metadata": {},
     "output_type": "execute_result"
    }
   ],
   "source": [
    "pumpkins.tail()"
   ]
  },
  {
   "cell_type": "code",
   "execution_count": 305,
   "metadata": {},
   "outputs": [
    {
     "data": {
      "text/plain": [
       "Commodity Name        0\n",
       "City Name             0\n",
       "Type               1600\n",
       "Package               0\n",
       "Variety               5\n",
       "Sub Variety        1367\n",
       "Grade              1645\n",
       "Date                  0\n",
       "Low Price             0\n",
       "High Price            0\n",
       "Mostly Low          103\n",
       "Mostly High         103\n",
       "Origin                5\n",
       "Origin District    1529\n",
       "Item Size           271\n",
       "Color               950\n",
       "Environment        1645\n",
       "Unit of Sale       1508\n",
       "Quality            1645\n",
       "Condition          1645\n",
       "Appearance         1645\n",
       "Storage            1645\n",
       "Crop               1645\n",
       "Repack                0\n",
       "Trans Mode         1645\n",
       "Offerings          1645\n",
       "Market Tone        1542\n",
       "Price Comment      1645\n",
       "Comments           1645\n",
       "dtype: int64"
      ]
     },
     "execution_count": 305,
     "metadata": {},
     "output_type": "execute_result"
    }
   ],
   "source": [
    "#check for Missing\n",
    "\n",
    "\n",
    "pumpkins.isna().sum()"
   ]
  },
  {
   "cell_type": "code",
   "execution_count": 306,
   "metadata": {},
   "outputs": [
    {
     "data": {
      "text/plain": [
       "0"
      ]
     },
     "execution_count": 306,
     "metadata": {},
     "output_type": "execute_result"
    }
   ],
   "source": [
    "pumpkins.duplicated().sum()"
   ]
  },
  {
   "cell_type": "code",
   "execution_count": 307,
   "metadata": {},
   "outputs": [
    {
     "name": "stdout",
     "output_type": "stream",
     "text": [
      "<class 'pandas.core.frame.DataFrame'>\n",
      "RangeIndex: 1645 entries, 0 to 1644\n",
      "Data columns (total 6 columns):\n",
      " #   Column      Non-Null Count  Dtype  \n",
      "---  ------      --------------  -----  \n",
      " 0   City Name   1645 non-null   object \n",
      " 1   Package     1645 non-null   object \n",
      " 2   Date        1645 non-null   object \n",
      " 3   Low Price   1645 non-null   float64\n",
      " 4   High Price  1645 non-null   float64\n",
      " 5   Repack      1645 non-null   object \n",
      "dtypes: float64(2), object(4)\n",
      "memory usage: 77.2+ KB\n"
     ]
    }
   ],
   "source": [
    "#drop variables that have over 1000 missing values and selecting our variables of interest\n",
    "\n",
    "new_columns = ['City Name','Package', 'Low Price', 'High Price', 'Date', 'Repack']\n",
    "\n",
    "pumpkins = pumpkins.drop([ i for i in pumpkins.columns if i not in new_columns], axis=1)\n",
    "pumpkins.info()\n"
   ]
  },
  {
   "cell_type": "code",
   "execution_count": 168,
   "metadata": {},
   "outputs": [
    {
     "data": {
      "text/html": [
       "<div>\n",
       "<style scoped>\n",
       "    .dataframe tbody tr th:only-of-type {\n",
       "        vertical-align: middle;\n",
       "    }\n",
       "\n",
       "    .dataframe tbody tr th {\n",
       "        vertical-align: top;\n",
       "    }\n",
       "\n",
       "    .dataframe thead th {\n",
       "        text-align: right;\n",
       "    }\n",
       "</style>\n",
       "<table border=\"1\" class=\"dataframe\">\n",
       "  <thead>\n",
       "    <tr style=\"text-align: right;\">\n",
       "      <th></th>\n",
       "      <th>City Name</th>\n",
       "      <th>Package</th>\n",
       "      <th>Date</th>\n",
       "      <th>Low Price</th>\n",
       "      <th>High Price</th>\n",
       "      <th>Repack</th>\n",
       "    </tr>\n",
       "  </thead>\n",
       "  <tbody>\n",
       "    <tr>\n",
       "      <th>0</th>\n",
       "      <td>ATLANTA</td>\n",
       "      <td>24 inch bins</td>\n",
       "      <td>09/24/2016</td>\n",
       "      <td>140.0</td>\n",
       "      <td>154.75</td>\n",
       "      <td>N</td>\n",
       "    </tr>\n",
       "    <tr>\n",
       "      <th>1</th>\n",
       "      <td>ATLANTA</td>\n",
       "      <td>24 inch bins</td>\n",
       "      <td>09/24/2016</td>\n",
       "      <td>145.0</td>\n",
       "      <td>154.75</td>\n",
       "      <td>N</td>\n",
       "    </tr>\n",
       "    <tr>\n",
       "      <th>2</th>\n",
       "      <td>ATLANTA</td>\n",
       "      <td>24 inch bins</td>\n",
       "      <td>09/24/2016</td>\n",
       "      <td>150.0</td>\n",
       "      <td>154.75</td>\n",
       "      <td>N</td>\n",
       "    </tr>\n",
       "    <tr>\n",
       "      <th>3</th>\n",
       "      <td>ATLANTA</td>\n",
       "      <td>24 inch bins</td>\n",
       "      <td>09/24/2016</td>\n",
       "      <td>150.0</td>\n",
       "      <td>150.00</td>\n",
       "      <td>N</td>\n",
       "    </tr>\n",
       "    <tr>\n",
       "      <th>4</th>\n",
       "      <td>ATLANTA</td>\n",
       "      <td>24 inch bins</td>\n",
       "      <td>10/01/2016</td>\n",
       "      <td>140.0</td>\n",
       "      <td>154.75</td>\n",
       "      <td>N</td>\n",
       "    </tr>\n",
       "  </tbody>\n",
       "</table>\n",
       "</div>"
      ],
      "text/plain": [
       "  City Name       Package        Date  Low Price  High Price Repack\n",
       "0   ATLANTA  24 inch bins  09/24/2016      140.0      154.75      N\n",
       "1   ATLANTA  24 inch bins  09/24/2016      145.0      154.75      N\n",
       "2   ATLANTA  24 inch bins  09/24/2016      150.0      154.75      N\n",
       "3   ATLANTA  24 inch bins  09/24/2016      150.0      150.00      N\n",
       "4   ATLANTA  24 inch bins  10/01/2016      140.0      154.75      N"
      ]
     },
     "execution_count": 168,
     "metadata": {},
     "output_type": "execute_result"
    }
   ],
   "source": [
    "pumpkins.head()"
   ]
  },
  {
   "cell_type": "code",
   "execution_count": 308,
   "metadata": {},
   "outputs": [
    {
     "data": {
      "text/plain": [
       "556"
      ]
     },
     "execution_count": 308,
     "metadata": {},
     "output_type": "execute_result"
    }
   ],
   "source": [
    "pumpkins.duplicated().sum()"
   ]
  },
  {
   "cell_type": "code",
   "execution_count": 309,
   "metadata": {},
   "outputs": [],
   "source": [
    "pumpkins = pumpkins.drop_duplicates()"
   ]
  },
  {
   "cell_type": "code",
   "execution_count": 310,
   "metadata": {},
   "outputs": [
    {
     "data": {
      "text/plain": [
       "(1089, 6)"
      ]
     },
     "execution_count": 310,
     "metadata": {},
     "output_type": "execute_result"
    }
   ],
   "source": [
    "pumpkins.shape"
   ]
  },
  {
   "cell_type": "code",
   "execution_count": 311,
   "metadata": {},
   "outputs": [],
   "source": [
    "# Get the average pricing and add it as a column to the dataframe\n",
    "price = (pumpkins['Low Price'] + pumpkins['High Price']) / 2\n",
    "\n",
    "month = pd.DatetimeIndex(pumpkins['Date']).month\n",
    "\n",
    "\n"
   ]
  },
  {
   "cell_type": "code",
   "execution_count": 312,
   "metadata": {},
   "outputs": [],
   "source": [
    "Model_data = pd.DataFrame({'City Name': pumpkins['City Name'] ,'Month': month, 'Package': pumpkins['Package'], 'Low Price': pumpkins['Low Price'],'High Price': pumpkins['High Price'], 'Repack':pumpkins['Repack'] ,'Price': price})"
   ]
  },
  {
   "cell_type": "code",
   "execution_count": 313,
   "metadata": {},
   "outputs": [
    {
     "data": {
      "text/html": [
       "<div>\n",
       "<style scoped>\n",
       "    .dataframe tbody tr th:only-of-type {\n",
       "        vertical-align: middle;\n",
       "    }\n",
       "\n",
       "    .dataframe tbody tr th {\n",
       "        vertical-align: top;\n",
       "    }\n",
       "\n",
       "    .dataframe thead th {\n",
       "        text-align: right;\n",
       "    }\n",
       "</style>\n",
       "<table border=\"1\" class=\"dataframe\">\n",
       "  <thead>\n",
       "    <tr style=\"text-align: right;\">\n",
       "      <th></th>\n",
       "      <th>Month</th>\n",
       "      <th>Low Price</th>\n",
       "      <th>High Price</th>\n",
       "      <th>Price</th>\n",
       "    </tr>\n",
       "  </thead>\n",
       "  <tbody>\n",
       "    <tr>\n",
       "      <th>count</th>\n",
       "      <td>1089.000000</td>\n",
       "      <td>1089.000000</td>\n",
       "      <td>1089.000000</td>\n",
       "      <td>1089.000000</td>\n",
       "    </tr>\n",
       "    <tr>\n",
       "      <th>mean</th>\n",
       "      <td>9.572084</td>\n",
       "      <td>123.383921</td>\n",
       "      <td>130.563076</td>\n",
       "      <td>126.973499</td>\n",
       "    </tr>\n",
       "    <tr>\n",
       "      <th>std</th>\n",
       "      <td>1.314019</td>\n",
       "      <td>86.393273</td>\n",
       "      <td>91.086761</td>\n",
       "      <td>88.452372</td>\n",
       "    </tr>\n",
       "    <tr>\n",
       "      <th>min</th>\n",
       "      <td>1.000000</td>\n",
       "      <td>0.240000</td>\n",
       "      <td>0.240000</td>\n",
       "      <td>0.240000</td>\n",
       "    </tr>\n",
       "    <tr>\n",
       "      <th>25%</th>\n",
       "      <td>9.000000</td>\n",
       "      <td>24.000000</td>\n",
       "      <td>24.500000</td>\n",
       "      <td>24.250000</td>\n",
       "    </tr>\n",
       "    <tr>\n",
       "      <th>50%</th>\n",
       "      <td>10.000000</td>\n",
       "      <td>140.000000</td>\n",
       "      <td>150.000000</td>\n",
       "      <td>140.000000</td>\n",
       "    </tr>\n",
       "    <tr>\n",
       "      <th>75%</th>\n",
       "      <td>10.000000</td>\n",
       "      <td>180.000000</td>\n",
       "      <td>200.000000</td>\n",
       "      <td>190.000000</td>\n",
       "    </tr>\n",
       "    <tr>\n",
       "      <th>max</th>\n",
       "      <td>12.000000</td>\n",
       "      <td>480.000000</td>\n",
       "      <td>480.000000</td>\n",
       "      <td>480.000000</td>\n",
       "    </tr>\n",
       "  </tbody>\n",
       "</table>\n",
       "</div>"
      ],
      "text/plain": [
       "             Month    Low Price   High Price        Price\n",
       "count  1089.000000  1089.000000  1089.000000  1089.000000\n",
       "mean      9.572084   123.383921   130.563076   126.973499\n",
       "std       1.314019    86.393273    91.086761    88.452372\n",
       "min       1.000000     0.240000     0.240000     0.240000\n",
       "25%       9.000000    24.000000    24.500000    24.250000\n",
       "50%      10.000000   140.000000   150.000000   140.000000\n",
       "75%      10.000000   180.000000   200.000000   190.000000\n",
       "max      12.000000   480.000000   480.000000   480.000000"
      ]
     },
     "execution_count": 313,
     "metadata": {},
     "output_type": "execute_result"
    }
   ],
   "source": [
    "Model_data.describe()"
   ]
  },
  {
   "cell_type": "code",
   "execution_count": 314,
   "metadata": {},
   "outputs": [
    {
     "data": {
      "text/plain": [
       "N    1084\n",
       "E       5\n",
       "Name: Repack, dtype: int64"
      ]
     },
     "execution_count": 314,
     "metadata": {},
     "output_type": "execute_result"
    }
   ],
   "source": [
    "Model_data['Repack'].value_counts()"
   ]
  },
  {
   "cell_type": "code",
   "execution_count": 315,
   "metadata": {},
   "outputs": [
    {
     "data": {
      "text/plain": [
       "array([ 9, 10, 11,  4,  5,  6,  8, 12,  1,  2,  3,  7], dtype=int64)"
      ]
     },
     "execution_count": 315,
     "metadata": {},
     "output_type": "execute_result"
    }
   ],
   "source": [
    "Model_data['Month'].unique()\n",
    "\n",
    "#we adjust the price of 'bushel cartons', '1 1/9 bushel crates', '1 1/9 bushel cartons'"
   ]
  },
  {
   "cell_type": "code",
   "execution_count": 316,
   "metadata": {},
   "outputs": [
    {
     "data": {
      "text/plain": [
       "10    506\n",
       "9     381\n",
       "11    133\n",
       "8      16\n",
       "12     16\n",
       "6       7\n",
       "4       6\n",
       "1       6\n",
       "5       5\n",
       "7       5\n",
       "2       4\n",
       "3       4\n",
       "Name: Month, dtype: int64"
      ]
     },
     "execution_count": 316,
     "metadata": {},
     "output_type": "execute_result"
    }
   ],
   "source": [
    "#pumpkins sells at higher frequecy bwt the 9th and 12th month\n",
    "\n",
    "\n",
    "Model_data['Month'].value_counts()"
   ]
  },
  {
   "cell_type": "code",
   "execution_count": 317,
   "metadata": {},
   "outputs": [],
   "source": [
    "Model_data.loc[Model_data['Package'].str.contains('1 1/9'), 'Price'] = price/(1 + 1/9)\n",
    "\n",
    "Model_data.loc[Model_data['Package'].str.contains(\n",
    "    '1/2'), 'Price'] = price/(1/2)\n"
   ]
  },
  {
   "cell_type": "code",
   "execution_count": 318,
   "metadata": {},
   "outputs": [
    {
     "data": {
      "text/html": [
       "<div>\n",
       "<style scoped>\n",
       "    .dataframe tbody tr th:only-of-type {\n",
       "        vertical-align: middle;\n",
       "    }\n",
       "\n",
       "    .dataframe tbody tr th {\n",
       "        vertical-align: top;\n",
       "    }\n",
       "\n",
       "    .dataframe thead th {\n",
       "        text-align: right;\n",
       "    }\n",
       "</style>\n",
       "<table border=\"1\" class=\"dataframe\">\n",
       "  <thead>\n",
       "    <tr style=\"text-align: right;\">\n",
       "      <th></th>\n",
       "      <th>City Name</th>\n",
       "      <th>Month</th>\n",
       "      <th>Package</th>\n",
       "      <th>Low Price</th>\n",
       "      <th>High Price</th>\n",
       "      <th>Repack</th>\n",
       "      <th>Price</th>\n",
       "    </tr>\n",
       "  </thead>\n",
       "  <tbody>\n",
       "    <tr>\n",
       "      <th>35</th>\n",
       "      <td>ATLANTA</td>\n",
       "      <td>11</td>\n",
       "      <td>1 1/9 bushel cartons</td>\n",
       "      <td>14.5</td>\n",
       "      <td>15.0</td>\n",
       "      <td>N</td>\n",
       "      <td>13.275</td>\n",
       "    </tr>\n",
       "    <tr>\n",
       "      <th>36</th>\n",
       "      <td>ATLANTA</td>\n",
       "      <td>11</td>\n",
       "      <td>1 1/9 bushel cartons</td>\n",
       "      <td>14.5</td>\n",
       "      <td>15.0</td>\n",
       "      <td>N</td>\n",
       "      <td>13.275</td>\n",
       "    </tr>\n",
       "    <tr>\n",
       "      <th>37</th>\n",
       "      <td>ATLANTA</td>\n",
       "      <td>11</td>\n",
       "      <td>1 1/9 bushel cartons</td>\n",
       "      <td>14.5</td>\n",
       "      <td>15.0</td>\n",
       "      <td>N</td>\n",
       "      <td>13.275</td>\n",
       "    </tr>\n",
       "    <tr>\n",
       "      <th>38</th>\n",
       "      <td>ATLANTA</td>\n",
       "      <td>11</td>\n",
       "      <td>1 1/9 bushel cartons</td>\n",
       "      <td>14.5</td>\n",
       "      <td>15.0</td>\n",
       "      <td>N</td>\n",
       "      <td>13.275</td>\n",
       "    </tr>\n",
       "    <tr>\n",
       "      <th>56</th>\n",
       "      <td>ATLANTA</td>\n",
       "      <td>9</td>\n",
       "      <td>1 1/9 bushel cartons</td>\n",
       "      <td>16.5</td>\n",
       "      <td>18.0</td>\n",
       "      <td>N</td>\n",
       "      <td>15.525</td>\n",
       "    </tr>\n",
       "    <tr>\n",
       "      <th>...</th>\n",
       "      <td>...</td>\n",
       "      <td>...</td>\n",
       "      <td>...</td>\n",
       "      <td>...</td>\n",
       "      <td>...</td>\n",
       "      <td>...</td>\n",
       "      <td>...</td>\n",
       "    </tr>\n",
       "    <tr>\n",
       "      <th>1348</th>\n",
       "      <td>PHILADELPHIA</td>\n",
       "      <td>10</td>\n",
       "      <td>1 1/9 bushel cartons</td>\n",
       "      <td>12.0</td>\n",
       "      <td>12.0</td>\n",
       "      <td>N</td>\n",
       "      <td>10.800</td>\n",
       "    </tr>\n",
       "    <tr>\n",
       "      <th>1349</th>\n",
       "      <td>PHILADELPHIA</td>\n",
       "      <td>10</td>\n",
       "      <td>1 1/9 bushel cartons</td>\n",
       "      <td>12.0</td>\n",
       "      <td>12.0</td>\n",
       "      <td>N</td>\n",
       "      <td>10.800</td>\n",
       "    </tr>\n",
       "    <tr>\n",
       "      <th>1350</th>\n",
       "      <td>PHILADELPHIA</td>\n",
       "      <td>8</td>\n",
       "      <td>1 1/9 bushel cartons</td>\n",
       "      <td>18.0</td>\n",
       "      <td>20.0</td>\n",
       "      <td>N</td>\n",
       "      <td>17.100</td>\n",
       "    </tr>\n",
       "    <tr>\n",
       "      <th>1351</th>\n",
       "      <td>PHILADELPHIA</td>\n",
       "      <td>9</td>\n",
       "      <td>1 1/9 bushel cartons</td>\n",
       "      <td>18.0</td>\n",
       "      <td>18.0</td>\n",
       "      <td>N</td>\n",
       "      <td>16.200</td>\n",
       "    </tr>\n",
       "    <tr>\n",
       "      <th>1352</th>\n",
       "      <td>PHILADELPHIA</td>\n",
       "      <td>9</td>\n",
       "      <td>1 1/9 bushel cartons</td>\n",
       "      <td>18.0</td>\n",
       "      <td>22.0</td>\n",
       "      <td>N</td>\n",
       "      <td>18.000</td>\n",
       "    </tr>\n",
       "  </tbody>\n",
       "</table>\n",
       "<p>87 rows × 7 columns</p>\n",
       "</div>"
      ],
      "text/plain": [
       "         City Name  Month               Package  Low Price  High Price Repack  \\\n",
       "35         ATLANTA     11  1 1/9 bushel cartons       14.5        15.0      N   \n",
       "36         ATLANTA     11  1 1/9 bushel cartons       14.5        15.0      N   \n",
       "37         ATLANTA     11  1 1/9 bushel cartons       14.5        15.0      N   \n",
       "38         ATLANTA     11  1 1/9 bushel cartons       14.5        15.0      N   \n",
       "56         ATLANTA      9  1 1/9 bushel cartons       16.5        18.0      N   \n",
       "...            ...    ...                   ...        ...         ...    ...   \n",
       "1348  PHILADELPHIA     10  1 1/9 bushel cartons       12.0        12.0      N   \n",
       "1349  PHILADELPHIA     10  1 1/9 bushel cartons       12.0        12.0      N   \n",
       "1350  PHILADELPHIA      8  1 1/9 bushel cartons       18.0        20.0      N   \n",
       "1351  PHILADELPHIA      9  1 1/9 bushel cartons       18.0        18.0      N   \n",
       "1352  PHILADELPHIA      9  1 1/9 bushel cartons       18.0        22.0      N   \n",
       "\n",
       "       Price  \n",
       "35    13.275  \n",
       "36    13.275  \n",
       "37    13.275  \n",
       "38    13.275  \n",
       "56    15.525  \n",
       "...      ...  \n",
       "1348  10.800  \n",
       "1349  10.800  \n",
       "1350  17.100  \n",
       "1351  16.200  \n",
       "1352  18.000  \n",
       "\n",
       "[87 rows x 7 columns]"
      ]
     },
     "execution_count": 318,
     "metadata": {},
     "output_type": "execute_result"
    }
   ],
   "source": [
    "Model_data[Model_data['Package'] == '1 1/9 bushel cartons']\n"
   ]
  },
  {
   "cell_type": "code",
   "execution_count": 187,
   "metadata": {},
   "outputs": [
    {
     "data": {
      "text/html": [
       "<div>\n",
       "<style scoped>\n",
       "    .dataframe tbody tr th:only-of-type {\n",
       "        vertical-align: middle;\n",
       "    }\n",
       "\n",
       "    .dataframe tbody tr th {\n",
       "        vertical-align: top;\n",
       "    }\n",
       "\n",
       "    .dataframe thead th {\n",
       "        text-align: right;\n",
       "    }\n",
       "</style>\n",
       "<table border=\"1\" class=\"dataframe\">\n",
       "  <thead>\n",
       "    <tr style=\"text-align: right;\">\n",
       "      <th></th>\n",
       "      <th>City Name</th>\n",
       "      <th>Month</th>\n",
       "      <th>Package</th>\n",
       "      <th>Low Price</th>\n",
       "      <th>High Price</th>\n",
       "      <th>Repack</th>\n",
       "      <th>Price</th>\n",
       "    </tr>\n",
       "  </thead>\n",
       "  <tbody>\n",
       "    <tr>\n",
       "      <th>180</th>\n",
       "      <td>BALTIMORE</td>\n",
       "      <td>9</td>\n",
       "      <td>1/2 bushel cartons</td>\n",
       "      <td>18.00</td>\n",
       "      <td>18.0</td>\n",
       "      <td>N</td>\n",
       "      <td>36.00</td>\n",
       "    </tr>\n",
       "    <tr>\n",
       "      <th>181</th>\n",
       "      <td>BALTIMORE</td>\n",
       "      <td>9</td>\n",
       "      <td>1/2 bushel cartons</td>\n",
       "      <td>15.00</td>\n",
       "      <td>15.0</td>\n",
       "      <td>N</td>\n",
       "      <td>30.00</td>\n",
       "    </tr>\n",
       "    <tr>\n",
       "      <th>182</th>\n",
       "      <td>BALTIMORE</td>\n",
       "      <td>10</td>\n",
       "      <td>1/2 bushel cartons</td>\n",
       "      <td>18.00</td>\n",
       "      <td>18.0</td>\n",
       "      <td>N</td>\n",
       "      <td>36.00</td>\n",
       "    </tr>\n",
       "    <tr>\n",
       "      <th>183</th>\n",
       "      <td>BALTIMORE</td>\n",
       "      <td>10</td>\n",
       "      <td>1/2 bushel cartons</td>\n",
       "      <td>15.00</td>\n",
       "      <td>15.0</td>\n",
       "      <td>N</td>\n",
       "      <td>30.00</td>\n",
       "    </tr>\n",
       "    <tr>\n",
       "      <th>184</th>\n",
       "      <td>BALTIMORE</td>\n",
       "      <td>10</td>\n",
       "      <td>1/2 bushel cartons</td>\n",
       "      <td>17.00</td>\n",
       "      <td>17.0</td>\n",
       "      <td>N</td>\n",
       "      <td>34.00</td>\n",
       "    </tr>\n",
       "    <tr>\n",
       "      <th>...</th>\n",
       "      <td>...</td>\n",
       "      <td>...</td>\n",
       "      <td>...</td>\n",
       "      <td>...</td>\n",
       "      <td>...</td>\n",
       "      <td>...</td>\n",
       "      <td>...</td>\n",
       "    </tr>\n",
       "    <tr>\n",
       "      <th>1626</th>\n",
       "      <td>ST. LOUIS</td>\n",
       "      <td>9</td>\n",
       "      <td>1/2 bushel cartons</td>\n",
       "      <td>15.00</td>\n",
       "      <td>15.0</td>\n",
       "      <td>N</td>\n",
       "      <td>30.00</td>\n",
       "    </tr>\n",
       "    <tr>\n",
       "      <th>1627</th>\n",
       "      <td>ST. LOUIS</td>\n",
       "      <td>9</td>\n",
       "      <td>1/2 bushel cartons</td>\n",
       "      <td>13.75</td>\n",
       "      <td>15.0</td>\n",
       "      <td>N</td>\n",
       "      <td>28.75</td>\n",
       "    </tr>\n",
       "    <tr>\n",
       "      <th>1628</th>\n",
       "      <td>ST. LOUIS</td>\n",
       "      <td>9</td>\n",
       "      <td>1/2 bushel cartons</td>\n",
       "      <td>10.75</td>\n",
       "      <td>15.0</td>\n",
       "      <td>N</td>\n",
       "      <td>25.75</td>\n",
       "    </tr>\n",
       "    <tr>\n",
       "      <th>1629</th>\n",
       "      <td>ST. LOUIS</td>\n",
       "      <td>9</td>\n",
       "      <td>1/2 bushel cartons</td>\n",
       "      <td>12.00</td>\n",
       "      <td>12.0</td>\n",
       "      <td>N</td>\n",
       "      <td>24.00</td>\n",
       "    </tr>\n",
       "    <tr>\n",
       "      <th>1630</th>\n",
       "      <td>ST. LOUIS</td>\n",
       "      <td>9</td>\n",
       "      <td>1/2 bushel cartons</td>\n",
       "      <td>12.00</td>\n",
       "      <td>12.0</td>\n",
       "      <td>N</td>\n",
       "      <td>24.00</td>\n",
       "    </tr>\n",
       "  </tbody>\n",
       "</table>\n",
       "<p>214 rows × 7 columns</p>\n",
       "</div>"
      ],
      "text/plain": [
       "      City Name  Month             Package  Low Price  High Price Repack  \\\n",
       "180   BALTIMORE      9  1/2 bushel cartons      18.00        18.0      N   \n",
       "181   BALTIMORE      9  1/2 bushel cartons      15.00        15.0      N   \n",
       "182   BALTIMORE     10  1/2 bushel cartons      18.00        18.0      N   \n",
       "183   BALTIMORE     10  1/2 bushel cartons      15.00        15.0      N   \n",
       "184   BALTIMORE     10  1/2 bushel cartons      17.00        17.0      N   \n",
       "...         ...    ...                 ...        ...         ...    ...   \n",
       "1626  ST. LOUIS      9  1/2 bushel cartons      15.00        15.0      N   \n",
       "1627  ST. LOUIS      9  1/2 bushel cartons      13.75        15.0      N   \n",
       "1628  ST. LOUIS      9  1/2 bushel cartons      10.75        15.0      N   \n",
       "1629  ST. LOUIS      9  1/2 bushel cartons      12.00        12.0      N   \n",
       "1630  ST. LOUIS      9  1/2 bushel cartons      12.00        12.0      N   \n",
       "\n",
       "      Price  \n",
       "180   36.00  \n",
       "181   30.00  \n",
       "182   36.00  \n",
       "183   30.00  \n",
       "184   34.00  \n",
       "...     ...  \n",
       "1626  30.00  \n",
       "1627  28.75  \n",
       "1628  25.75  \n",
       "1629  24.00  \n",
       "1630  24.00  \n",
       "\n",
       "[214 rows x 7 columns]"
      ]
     },
     "execution_count": 187,
     "metadata": {},
     "output_type": "execute_result"
    }
   ],
   "source": [
    "Model_data[Model_data['Package'] == '1/2 bushel cartons']\n"
   ]
  },
  {
   "cell_type": "code",
   "execution_count": 319,
   "metadata": {},
   "outputs": [
    {
     "data": {
      "text/plain": [
       "(1089, 7)"
      ]
     },
     "execution_count": 319,
     "metadata": {},
     "output_type": "execute_result"
    }
   ],
   "source": [
    "Model_data.shape"
   ]
  },
  {
   "cell_type": "code",
   "execution_count": 320,
   "metadata": {},
   "outputs": [
    {
     "data": {
      "text/plain": [
       "564"
      ]
     },
     "execution_count": 320,
     "metadata": {},
     "output_type": "execute_result"
    }
   ],
   "source": [
    "Model_data.duplicated().sum()"
   ]
  },
  {
   "cell_type": "code",
   "execution_count": 321,
   "metadata": {},
   "outputs": [],
   "source": [
    "Model_data = Model_data.drop_duplicates()"
   ]
  },
  {
   "cell_type": "code",
   "execution_count": 322,
   "metadata": {},
   "outputs": [
    {
     "data": {
      "text/html": [
       "<div>\n",
       "<style scoped>\n",
       "    .dataframe tbody tr th:only-of-type {\n",
       "        vertical-align: middle;\n",
       "    }\n",
       "\n",
       "    .dataframe tbody tr th {\n",
       "        vertical-align: top;\n",
       "    }\n",
       "\n",
       "    .dataframe thead th {\n",
       "        text-align: right;\n",
       "    }\n",
       "</style>\n",
       "<table border=\"1\" class=\"dataframe\">\n",
       "  <thead>\n",
       "    <tr style=\"text-align: right;\">\n",
       "      <th></th>\n",
       "      <th>City Name</th>\n",
       "      <th>Month</th>\n",
       "      <th>Package</th>\n",
       "      <th>Low Price</th>\n",
       "      <th>High Price</th>\n",
       "      <th>Repack</th>\n",
       "      <th>Price</th>\n",
       "    </tr>\n",
       "  </thead>\n",
       "  <tbody>\n",
       "    <tr>\n",
       "      <th>0</th>\n",
       "      <td>ATLANTA</td>\n",
       "      <td>9</td>\n",
       "      <td>24 inch bins</td>\n",
       "      <td>140.00</td>\n",
       "      <td>154.75</td>\n",
       "      <td>N</td>\n",
       "      <td>147.375</td>\n",
       "    </tr>\n",
       "    <tr>\n",
       "      <th>1</th>\n",
       "      <td>ATLANTA</td>\n",
       "      <td>9</td>\n",
       "      <td>24 inch bins</td>\n",
       "      <td>145.00</td>\n",
       "      <td>154.75</td>\n",
       "      <td>N</td>\n",
       "      <td>149.875</td>\n",
       "    </tr>\n",
       "    <tr>\n",
       "      <th>2</th>\n",
       "      <td>ATLANTA</td>\n",
       "      <td>9</td>\n",
       "      <td>24 inch bins</td>\n",
       "      <td>150.00</td>\n",
       "      <td>154.75</td>\n",
       "      <td>N</td>\n",
       "      <td>152.375</td>\n",
       "    </tr>\n",
       "    <tr>\n",
       "      <th>3</th>\n",
       "      <td>ATLANTA</td>\n",
       "      <td>9</td>\n",
       "      <td>24 inch bins</td>\n",
       "      <td>150.00</td>\n",
       "      <td>150.00</td>\n",
       "      <td>N</td>\n",
       "      <td>150.000</td>\n",
       "    </tr>\n",
       "    <tr>\n",
       "      <th>4</th>\n",
       "      <td>ATLANTA</td>\n",
       "      <td>10</td>\n",
       "      <td>24 inch bins</td>\n",
       "      <td>140.00</td>\n",
       "      <td>154.75</td>\n",
       "      <td>N</td>\n",
       "      <td>147.375</td>\n",
       "    </tr>\n",
       "    <tr>\n",
       "      <th>...</th>\n",
       "      <td>...</td>\n",
       "      <td>...</td>\n",
       "      <td>...</td>\n",
       "      <td>...</td>\n",
       "      <td>...</td>\n",
       "      <td>...</td>\n",
       "      <td>...</td>\n",
       "    </tr>\n",
       "    <tr>\n",
       "      <th>1622</th>\n",
       "      <td>ST. LOUIS</td>\n",
       "      <td>9</td>\n",
       "      <td>1/2 bushel cartons</td>\n",
       "      <td>10.75</td>\n",
       "      <td>15.00</td>\n",
       "      <td>N</td>\n",
       "      <td>25.750</td>\n",
       "    </tr>\n",
       "    <tr>\n",
       "      <th>1623</th>\n",
       "      <td>ST. LOUIS</td>\n",
       "      <td>9</td>\n",
       "      <td>1/2 bushel cartons</td>\n",
       "      <td>12.00</td>\n",
       "      <td>12.00</td>\n",
       "      <td>N</td>\n",
       "      <td>24.000</td>\n",
       "    </tr>\n",
       "    <tr>\n",
       "      <th>1631</th>\n",
       "      <td>ST. LOUIS</td>\n",
       "      <td>9</td>\n",
       "      <td>22 lb cartons</td>\n",
       "      <td>16.75</td>\n",
       "      <td>16.75</td>\n",
       "      <td>N</td>\n",
       "      <td>16.750</td>\n",
       "    </tr>\n",
       "    <tr>\n",
       "      <th>1635</th>\n",
       "      <td>ST. LOUIS</td>\n",
       "      <td>9</td>\n",
       "      <td>22 lb cartons</td>\n",
       "      <td>14.75</td>\n",
       "      <td>14.75</td>\n",
       "      <td>N</td>\n",
       "      <td>14.750</td>\n",
       "    </tr>\n",
       "    <tr>\n",
       "      <th>1637</th>\n",
       "      <td>ST. LOUIS</td>\n",
       "      <td>9</td>\n",
       "      <td>22 lb cartons</td>\n",
       "      <td>10.75</td>\n",
       "      <td>10.75</td>\n",
       "      <td>N</td>\n",
       "      <td>10.750</td>\n",
       "    </tr>\n",
       "  </tbody>\n",
       "</table>\n",
       "<p>525 rows × 7 columns</p>\n",
       "</div>"
      ],
      "text/plain": [
       "      City Name  Month             Package  Low Price  High Price Repack  \\\n",
       "0       ATLANTA      9        24 inch bins     140.00      154.75      N   \n",
       "1       ATLANTA      9        24 inch bins     145.00      154.75      N   \n",
       "2       ATLANTA      9        24 inch bins     150.00      154.75      N   \n",
       "3       ATLANTA      9        24 inch bins     150.00      150.00      N   \n",
       "4       ATLANTA     10        24 inch bins     140.00      154.75      N   \n",
       "...         ...    ...                 ...        ...         ...    ...   \n",
       "1622  ST. LOUIS      9  1/2 bushel cartons      10.75       15.00      N   \n",
       "1623  ST. LOUIS      9  1/2 bushel cartons      12.00       12.00      N   \n",
       "1631  ST. LOUIS      9       22 lb cartons      16.75       16.75      N   \n",
       "1635  ST. LOUIS      9       22 lb cartons      14.75       14.75      N   \n",
       "1637  ST. LOUIS      9       22 lb cartons      10.75       10.75      N   \n",
       "\n",
       "        Price  \n",
       "0     147.375  \n",
       "1     149.875  \n",
       "2     152.375  \n",
       "3     150.000  \n",
       "4     147.375  \n",
       "...       ...  \n",
       "1622   25.750  \n",
       "1623   24.000  \n",
       "1631   16.750  \n",
       "1635   14.750  \n",
       "1637   10.750  \n",
       "\n",
       "[525 rows x 7 columns]"
      ]
     },
     "execution_count": 322,
     "metadata": {},
     "output_type": "execute_result"
    }
   ],
   "source": [
    "Model_data"
   ]
  },
  {
   "cell_type": "code",
   "execution_count": 323,
   "metadata": {},
   "outputs": [
    {
     "data": {
      "text/plain": [
       "9     212\n",
       "10    193\n",
       "11     86\n",
       "8      10\n",
       "12      9\n",
       "5       3\n",
       "2       3\n",
       "4       2\n",
       "6       2\n",
       "1       2\n",
       "7       2\n",
       "3       1\n",
       "Name: Month, dtype: int64"
      ]
     },
     "execution_count": 323,
     "metadata": {},
     "output_type": "execute_result"
    }
   ],
   "source": [
    "Model_data[\"Month\"].value_counts()"
   ]
  },
  {
   "cell_type": "code",
   "execution_count": 324,
   "metadata": {},
   "outputs": [
    {
     "data": {
      "text/plain": [
       "Index(['City Name', 'Month', 'Package', 'Low Price', 'High Price', 'Repack',\n",
       "       'Price'],\n",
       "      dtype='object')"
      ]
     },
     "execution_count": 324,
     "metadata": {},
     "output_type": "execute_result"
    }
   ],
   "source": [
    "Model_data.columns"
   ]
  },
  {
   "cell_type": "markdown",
   "metadata": {},
   "source": [
    "Visualizing Data\n"
   ]
  },
  {
   "cell_type": "markdown",
   "metadata": {},
   "source": [
    "### Check Price Distribution"
   ]
  },
  {
   "cell_type": "code",
   "execution_count": 325,
   "metadata": {},
   "outputs": [
    {
     "name": "stderr",
     "output_type": "stream",
     "text": [
      "C:\\Users\\POPOOLA KAYODE\\AppData\\Local\\Temp\\ipykernel_16360\\4074747589.py:24: UserWarning: Matplotlib is currently using module://matplotlib_inline.backend_inline, which is a non-GUI backend, so cannot show the figure.\n",
      "  fig.show()\n"
     ]
    },
    {
     "data": {
      "image/png": "[encoded data removed]",
      "text/plain": [
       "<Figure size 648x864 with 2 Axes>"
      ]
     },
     "metadata": {
      "needs_background": "light"
     },
     "output_type": "display_data"
    }
   ],
   "source": [
    "%matplotlib inline\n",
    "\n",
    "label = Model_data[Model_data.columns[-1]]\n",
    "\n",
    "# Create a figure for 2 subplots (2 rows, 1 column)\n",
    "fig, ax = plt.subplots(2, 1, figsize=(9, 12))\n",
    "\n",
    "# Plot the histogram\n",
    "ax[0].hist(label, bins=100)\n",
    "ax[0].set_ylabel('Frequency')\n",
    "\n",
    "# Add lines for the mean, median, and mode\n",
    "ax[0].axvline(label.mean(), color='magenta', linestyle='dashed', linewidth=2)\n",
    "ax[0].axvline(label.median(), color='cyan', linestyle='dashed', linewidth=2)\n",
    "\n",
    "# Plot the boxplot\n",
    "ax[1].boxplot(label, vert=False)\n",
    "ax[1].set_xlabel('Label')\n",
    "\n",
    "# Add a title to the Figure\n",
    "fig.suptitle('Label Distribution')\n",
    "\n",
    "# Show the figure\n",
    "fig.show()\n"
   ]
  },
  {
   "cell_type": "markdown",
   "metadata": {},
   "source": [
    "### Remove outliers"
   ]
  },
  {
   "cell_type": "code",
   "execution_count": 326,
   "metadata": {},
   "outputs": [
    {
     "name": "stderr",
     "output_type": "stream",
     "text": [
      "C:\\Users\\POPOOLA KAYODE\\AppData\\Local\\Temp\\ipykernel_16360\\3738849067.py:23: UserWarning: Matplotlib is currently using module://matplotlib_inline.backend_inline, which is a non-GUI backend, so cannot show the figure.\n",
      "  fig.show()\n"
     ]
    },
    {
     "data": {
      "image/png": "[encoded data removed]",
      "text/plain": [
       "<Figure size 648x864 with 2 Axes>"
      ]
     },
     "metadata": {
      "needs_background": "light"
     },
     "output_type": "display_data"
    }
   ],
   "source": [
    "Model_data = Model_data[Model_data['Price'] < 400]\n",
    "\n",
    "label = Model_data[Model_data.columns[-1]]\n",
    "\n",
    "ig, ax = plt.subplots(2, 1, figsize=(9, 12))\n",
    "\n",
    "# Plot the histogram\n",
    "ax[0].hist(label, bins=100)\n",
    "ax[0].set_ylabel('Frequency')\n",
    "\n",
    "# Add lines for the mean, median, and mode\n",
    "ax[0].axvline(label.mean(), color='magenta', linestyle='dashed', linewidth=2)\n",
    "ax[0].axvline(label.median(), color='cyan', linestyle='dashed', linewidth=2)\n",
    "\n",
    "# Plot the boxplot\n",
    "ax[1].boxplot(label, vert=False)\n",
    "ax[1].set_xlabel('Label')\n",
    "\n",
    "# Add a title to the Figure\n",
    "fig.suptitle('Label Distribution')\n",
    "\n",
    "# Show the figure\n",
    "fig.show()\n"
   ]
  },
  {
   "cell_type": "markdown",
   "metadata": {},
   "source": [
    "View categorical features"
   ]
  },
  {
   "cell_type": "code",
   "execution_count": 327,
   "metadata": {},
   "outputs": [
    {
     "data": {
      "text/plain": [
       "<AxesSubplot:xlabel='Month', ylabel='Price'>"
      ]
     },
     "execution_count": 327,
     "metadata": {},
     "output_type": "execute_result"
    },
    {
     "data": {
      "image/png": "[encoded data removed]",
      "text/plain": [
       "<Figure size 432x288 with 1 Axes>"
      ]
     },
     "metadata": {
      "needs_background": "light"
     },
     "output_type": "display_data"
    }
   ],
   "source": [
    "sns.barplot( x= 'Month' , y= 'Price', data= Model_data )\n",
    "\n",
    "##more money was made in the sixth month\n",
    "\n"
   ]
  },
  {
   "cell_type": "code",
   "execution_count": 328,
   "metadata": {},
   "outputs": [
    {
     "data": {
      "text/plain": [
       "<AxesSubplot:xlabel='City Name'>"
      ]
     },
     "execution_count": 328,
     "metadata": {},
     "output_type": "execute_result"
    },
    {
     "data": {
      "image/png": "[encoded data removed]",
      "text/plain": [
       "<Figure size 432x288 with 1 Axes>"
      ]
     },
     "metadata": {
      "needs_background": "light"
     },
     "output_type": "display_data"
    }
   ],
   "source": [
    "Model_data.groupby(['City Name'])['Price'].mean().plot(kind = 'bar' )"
   ]
  },
  {
   "cell_type": "code",
   "execution_count": 329,
   "metadata": {},
   "outputs": [
    {
     "data": {
      "text/plain": [
       "<AxesSubplot:xlabel='Repack'>"
      ]
     },
     "execution_count": 329,
     "metadata": {},
     "output_type": "execute_result"
    },
    {
     "data": {
      "image/png": "[encoded data removed]",
      "text/plain": [
       "<Figure size 432x288 with 1 Axes>"
      ]
     },
     "metadata": {
      "needs_background": "light"
     },
     "output_type": "display_data"
    }
   ],
   "source": [
    "Model_data.groupby(['Repack'])['Price'].mean().plot(kind = 'bar' )"
   ]
  },
  {
   "cell_type": "code",
   "execution_count": 330,
   "metadata": {},
   "outputs": [
    {
     "data": {
      "text/html": [
       "<div>\n",
       "<style scoped>\n",
       "    .dataframe tbody tr th:only-of-type {\n",
       "        vertical-align: middle;\n",
       "    }\n",
       "\n",
       "    .dataframe tbody tr th {\n",
       "        vertical-align: top;\n",
       "    }\n",
       "\n",
       "    .dataframe thead th {\n",
       "        text-align: right;\n",
       "    }\n",
       "</style>\n",
       "<table border=\"1\" class=\"dataframe\">\n",
       "  <thead>\n",
       "    <tr style=\"text-align: right;\">\n",
       "      <th>Package</th>\n",
       "      <th>1 1/9 bushel cartons</th>\n",
       "      <th>1 1/9 bushel crates</th>\n",
       "      <th>1/2 bushel cartons</th>\n",
       "      <th>20 lb cartons</th>\n",
       "      <th>22 lb cartons</th>\n",
       "      <th>24 inch bins</th>\n",
       "      <th>35 lb cartons</th>\n",
       "      <th>36 inch bins</th>\n",
       "      <th>40 lb cartons</th>\n",
       "      <th>50 lb cartons</th>\n",
       "      <th>50 lb sacks</th>\n",
       "      <th>bins</th>\n",
       "      <th>bushel baskets</th>\n",
       "      <th>bushel cartons</th>\n",
       "      <th>each</th>\n",
       "    </tr>\n",
       "    <tr>\n",
       "      <th>Month</th>\n",
       "      <th></th>\n",
       "      <th></th>\n",
       "      <th></th>\n",
       "      <th></th>\n",
       "      <th></th>\n",
       "      <th></th>\n",
       "      <th></th>\n",
       "      <th></th>\n",
       "      <th></th>\n",
       "      <th></th>\n",
       "      <th></th>\n",
       "      <th></th>\n",
       "      <th></th>\n",
       "      <th></th>\n",
       "      <th></th>\n",
       "    </tr>\n",
       "  </thead>\n",
       "  <tbody>\n",
       "    <tr>\n",
       "      <th>1</th>\n",
       "      <td>NaN</td>\n",
       "      <td>NaN</td>\n",
       "      <td>NaN</td>\n",
       "      <td>NaN</td>\n",
       "      <td>NaN</td>\n",
       "      <td>NaN</td>\n",
       "      <td>25.0000</td>\n",
       "      <td>185.000000</td>\n",
       "      <td>NaN</td>\n",
       "      <td>NaN</td>\n",
       "      <td>NaN</td>\n",
       "      <td>NaN</td>\n",
       "      <td>NaN</td>\n",
       "      <td>NaN</td>\n",
       "      <td>NaN</td>\n",
       "    </tr>\n",
       "    <tr>\n",
       "      <th>2</th>\n",
       "      <td>NaN</td>\n",
       "      <td>NaN</td>\n",
       "      <td>NaN</td>\n",
       "      <td>NaN</td>\n",
       "      <td>NaN</td>\n",
       "      <td>NaN</td>\n",
       "      <td>NaN</td>\n",
       "      <td>216.666667</td>\n",
       "      <td>NaN</td>\n",
       "      <td>NaN</td>\n",
       "      <td>NaN</td>\n",
       "      <td>NaN</td>\n",
       "      <td>NaN</td>\n",
       "      <td>NaN</td>\n",
       "      <td>NaN</td>\n",
       "    </tr>\n",
       "    <tr>\n",
       "      <th>3</th>\n",
       "      <td>NaN</td>\n",
       "      <td>NaN</td>\n",
       "      <td>NaN</td>\n",
       "      <td>NaN</td>\n",
       "      <td>NaN</td>\n",
       "      <td>NaN</td>\n",
       "      <td>NaN</td>\n",
       "      <td>210.000000</td>\n",
       "      <td>NaN</td>\n",
       "      <td>NaN</td>\n",
       "      <td>NaN</td>\n",
       "      <td>NaN</td>\n",
       "      <td>NaN</td>\n",
       "      <td>NaN</td>\n",
       "      <td>NaN</td>\n",
       "    </tr>\n",
       "    <tr>\n",
       "      <th>4</th>\n",
       "      <td>NaN</td>\n",
       "      <td>NaN</td>\n",
       "      <td>NaN</td>\n",
       "      <td>NaN</td>\n",
       "      <td>NaN</td>\n",
       "      <td>275.000000</td>\n",
       "      <td>NaN</td>\n",
       "      <td>210.000000</td>\n",
       "      <td>NaN</td>\n",
       "      <td>NaN</td>\n",
       "      <td>NaN</td>\n",
       "      <td>NaN</td>\n",
       "      <td>NaN</td>\n",
       "      <td>NaN</td>\n",
       "      <td>NaN</td>\n",
       "    </tr>\n",
       "    <tr>\n",
       "      <th>5</th>\n",
       "      <td>NaN</td>\n",
       "      <td>NaN</td>\n",
       "      <td>NaN</td>\n",
       "      <td>NaN</td>\n",
       "      <td>NaN</td>\n",
       "      <td>275.000000</td>\n",
       "      <td>NaN</td>\n",
       "      <td>221.250000</td>\n",
       "      <td>NaN</td>\n",
       "      <td>NaN</td>\n",
       "      <td>NaN</td>\n",
       "      <td>NaN</td>\n",
       "      <td>NaN</td>\n",
       "      <td>NaN</td>\n",
       "      <td>NaN</td>\n",
       "    </tr>\n",
       "    <tr>\n",
       "      <th>6</th>\n",
       "      <td>NaN</td>\n",
       "      <td>NaN</td>\n",
       "      <td>NaN</td>\n",
       "      <td>NaN</td>\n",
       "      <td>NaN</td>\n",
       "      <td>380.000000</td>\n",
       "      <td>NaN</td>\n",
       "      <td>225.000000</td>\n",
       "      <td>NaN</td>\n",
       "      <td>NaN</td>\n",
       "      <td>NaN</td>\n",
       "      <td>NaN</td>\n",
       "      <td>NaN</td>\n",
       "      <td>NaN</td>\n",
       "      <td>NaN</td>\n",
       "    </tr>\n",
       "    <tr>\n",
       "      <th>7</th>\n",
       "      <td>NaN</td>\n",
       "      <td>NaN</td>\n",
       "      <td>NaN</td>\n",
       "      <td>NaN</td>\n",
       "      <td>NaN</td>\n",
       "      <td>NaN</td>\n",
       "      <td>NaN</td>\n",
       "      <td>247.500000</td>\n",
       "      <td>NaN</td>\n",
       "      <td>NaN</td>\n",
       "      <td>NaN</td>\n",
       "      <td>NaN</td>\n",
       "      <td>NaN</td>\n",
       "      <td>NaN</td>\n",
       "      <td>NaN</td>\n",
       "    </tr>\n",
       "    <tr>\n",
       "      <th>8</th>\n",
       "      <td>17.550000</td>\n",
       "      <td>NaN</td>\n",
       "      <td>38.000000</td>\n",
       "      <td>NaN</td>\n",
       "      <td>NaN</td>\n",
       "      <td>158.433333</td>\n",
       "      <td>NaN</td>\n",
       "      <td>255.000000</td>\n",
       "      <td>NaN</td>\n",
       "      <td>NaN</td>\n",
       "      <td>28.75</td>\n",
       "      <td>200.000</td>\n",
       "      <td>NaN</td>\n",
       "      <td>NaN</td>\n",
       "      <td>NaN</td>\n",
       "    </tr>\n",
       "    <tr>\n",
       "      <th>9</th>\n",
       "      <td>16.187500</td>\n",
       "      <td>13.95</td>\n",
       "      <td>32.817308</td>\n",
       "      <td>NaN</td>\n",
       "      <td>14.083333</td>\n",
       "      <td>167.348455</td>\n",
       "      <td>29.6875</td>\n",
       "      <td>173.118092</td>\n",
       "      <td>35.00</td>\n",
       "      <td>31.000000</td>\n",
       "      <td>25.75</td>\n",
       "      <td>151.875</td>\n",
       "      <td>49.25</td>\n",
       "      <td>22.25</td>\n",
       "      <td>60.000000</td>\n",
       "    </tr>\n",
       "    <tr>\n",
       "      <th>10</th>\n",
       "      <td>14.590385</td>\n",
       "      <td>13.95</td>\n",
       "      <td>34.263158</td>\n",
       "      <td>20.25</td>\n",
       "      <td>NaN</td>\n",
       "      <td>165.385423</td>\n",
       "      <td>30.2500</td>\n",
       "      <td>169.925000</td>\n",
       "      <td>31.25</td>\n",
       "      <td>30.333333</td>\n",
       "      <td>NaN</td>\n",
       "      <td>NaN</td>\n",
       "      <td>41.50</td>\n",
       "      <td>23.50</td>\n",
       "      <td>107.683333</td>\n",
       "    </tr>\n",
       "    <tr>\n",
       "      <th>11</th>\n",
       "      <td>14.715000</td>\n",
       "      <td>13.95</td>\n",
       "      <td>35.250000</td>\n",
       "      <td>20.50</td>\n",
       "      <td>NaN</td>\n",
       "      <td>159.032407</td>\n",
       "      <td>27.9000</td>\n",
       "      <td>167.742424</td>\n",
       "      <td>30.00</td>\n",
       "      <td>24.000000</td>\n",
       "      <td>NaN</td>\n",
       "      <td>NaN</td>\n",
       "      <td>45.00</td>\n",
       "      <td>18.00</td>\n",
       "      <td>72.500000</td>\n",
       "    </tr>\n",
       "    <tr>\n",
       "      <th>12</th>\n",
       "      <td>16.500000</td>\n",
       "      <td>13.95</td>\n",
       "      <td>NaN</td>\n",
       "      <td>NaN</td>\n",
       "      <td>NaN</td>\n",
       "      <td>200.000000</td>\n",
       "      <td>24.0000</td>\n",
       "      <td>140.833333</td>\n",
       "      <td>NaN</td>\n",
       "      <td>NaN</td>\n",
       "      <td>NaN</td>\n",
       "      <td>NaN</td>\n",
       "      <td>NaN</td>\n",
       "      <td>NaN</td>\n",
       "      <td>NaN</td>\n",
       "    </tr>\n",
       "  </tbody>\n",
       "</table>\n",
       "</div>"
      ],
      "text/plain": [
       "Package  1 1/9 bushel cartons  1 1/9 bushel crates  1/2 bushel cartons  \\\n",
       "Month                                                                    \n",
       "1                         NaN                  NaN                 NaN   \n",
       "2                         NaN                  NaN                 NaN   \n",
       "3                         NaN                  NaN                 NaN   \n",
       "4                         NaN                  NaN                 NaN   \n",
       "5                         NaN                  NaN                 NaN   \n",
       "6                         NaN                  NaN                 NaN   \n",
       "7                         NaN                  NaN                 NaN   \n",
       "8                   17.550000                  NaN           38.000000   \n",
       "9                   16.187500                13.95           32.817308   \n",
       "10                  14.590385                13.95           34.263158   \n",
       "11                  14.715000                13.95           35.250000   \n",
       "12                  16.500000                13.95                 NaN   \n",
       "\n",
       "Package  20 lb cartons  22 lb cartons  24 inch bins  35 lb cartons  \\\n",
       "Month                                                                \n",
       "1                  NaN            NaN           NaN        25.0000   \n",
       "2                  NaN            NaN           NaN            NaN   \n",
       "3                  NaN            NaN           NaN            NaN   \n",
       "4                  NaN            NaN    275.000000            NaN   \n",
       "5                  NaN            NaN    275.000000            NaN   \n",
       "6                  NaN            NaN    380.000000            NaN   \n",
       "7                  NaN            NaN           NaN            NaN   \n",
       "8                  NaN            NaN    158.433333            NaN   \n",
       "9                  NaN      14.083333    167.348455        29.6875   \n",
       "10               20.25            NaN    165.385423        30.2500   \n",
       "11               20.50            NaN    159.032407        27.9000   \n",
       "12                 NaN            NaN    200.000000        24.0000   \n",
       "\n",
       "Package  36 inch bins  40 lb cartons  50 lb cartons  50 lb sacks     bins  \\\n",
       "Month                                                                       \n",
       "1          185.000000            NaN            NaN          NaN      NaN   \n",
       "2          216.666667            NaN            NaN          NaN      NaN   \n",
       "3          210.000000            NaN            NaN          NaN      NaN   \n",
       "4          210.000000            NaN            NaN          NaN      NaN   \n",
       "5          221.250000            NaN            NaN          NaN      NaN   \n",
       "6          225.000000            NaN            NaN          NaN      NaN   \n",
       "7          247.500000            NaN            NaN          NaN      NaN   \n",
       "8          255.000000            NaN            NaN        28.75  200.000   \n",
       "9          173.118092          35.00      31.000000        25.75  151.875   \n",
       "10         169.925000          31.25      30.333333          NaN      NaN   \n",
       "11         167.742424          30.00      24.000000          NaN      NaN   \n",
       "12         140.833333            NaN            NaN          NaN      NaN   \n",
       "\n",
       "Package  bushel baskets  bushel cartons        each  \n",
       "Month                                                \n",
       "1                   NaN             NaN         NaN  \n",
       "2                   NaN             NaN         NaN  \n",
       "3                   NaN             NaN         NaN  \n",
       "4                   NaN             NaN         NaN  \n",
       "5                   NaN             NaN         NaN  \n",
       "6                   NaN             NaN         NaN  \n",
       "7                   NaN             NaN         NaN  \n",
       "8                   NaN             NaN         NaN  \n",
       "9                 49.25           22.25   60.000000  \n",
       "10                41.50           23.50  107.683333  \n",
       "11                45.00           18.00   72.500000  \n",
       "12                  NaN             NaN         NaN  "
      ]
     },
     "execution_count": 330,
     "metadata": {},
     "output_type": "execute_result"
    }
   ],
   "source": [
    "Model_data.pivot_table(values='Price',index='Month',columns='Package', dropna=True)\n"
   ]
  },
  {
   "cell_type": "markdown",
   "metadata": {},
   "source": [
    "view numeric correlations"
   ]
  },
  {
   "cell_type": "code",
   "execution_count": 331,
   "metadata": {},
   "outputs": [
    {
     "data": {
      "text/plain": [
       "<seaborn.axisgrid.PairGrid at 0x1e52f9348b0>"
      ]
     },
     "execution_count": 331,
     "metadata": {},
     "output_type": "execute_result"
    },
    {
     "data": {
      "image/png": "[encoded data removed]",
      "text/plain": [
       "<Figure size 837.125x720 with 20 Axes>"
      ]
     },
     "metadata": {
      "needs_background": "light"
     },
     "output_type": "display_data"
    }
   ],
   "source": [
    "sns.pairplot(Model_data, hue= 'City Name', palette = 'coolwarm', kind= 'hist')"
   ]
  },
  {
   "cell_type": "code",
   "execution_count": 336,
   "metadata": {},
   "outputs": [
    {
     "data": {
      "text/html": [
       "<div>\n",
       "<style scoped>\n",
       "    .dataframe tbody tr th:only-of-type {\n",
       "        vertical-align: middle;\n",
       "    }\n",
       "\n",
       "    .dataframe tbody tr th {\n",
       "        vertical-align: top;\n",
       "    }\n",
       "\n",
       "    .dataframe thead th {\n",
       "        text-align: right;\n",
       "    }\n",
       "</style>\n",
       "<table border=\"1\" class=\"dataframe\">\n",
       "  <thead>\n",
       "    <tr style=\"text-align: right;\">\n",
       "      <th></th>\n",
       "      <th>Month</th>\n",
       "      <th>Low Price</th>\n",
       "      <th>High Price</th>\n",
       "      <th>Price</th>\n",
       "    </tr>\n",
       "  </thead>\n",
       "  <tbody>\n",
       "    <tr>\n",
       "      <th>Month</th>\n",
       "      <td>1.000000</td>\n",
       "      <td>-0.138363</td>\n",
       "      <td>-0.118604</td>\n",
       "      <td>-0.130827</td>\n",
       "    </tr>\n",
       "    <tr>\n",
       "      <th>Low Price</th>\n",
       "      <td>-0.138363</td>\n",
       "      <td>1.000000</td>\n",
       "      <td>0.982519</td>\n",
       "      <td>0.993557</td>\n",
       "    </tr>\n",
       "    <tr>\n",
       "      <th>High Price</th>\n",
       "      <td>-0.118604</td>\n",
       "      <td>0.982519</td>\n",
       "      <td>1.000000</td>\n",
       "      <td>0.994236</td>\n",
       "    </tr>\n",
       "    <tr>\n",
       "      <th>Price</th>\n",
       "      <td>-0.130827</td>\n",
       "      <td>0.993557</td>\n",
       "      <td>0.994236</td>\n",
       "      <td>1.000000</td>\n",
       "    </tr>\n",
       "  </tbody>\n",
       "</table>\n",
       "</div>"
      ],
      "text/plain": [
       "               Month  Low Price  High Price     Price\n",
       "Month       1.000000  -0.138363   -0.118604 -0.130827\n",
       "Low Price  -0.138363   1.000000    0.982519  0.993557\n",
       "High Price -0.118604   0.982519    1.000000  0.994236\n",
       "Price      -0.130827   0.993557    0.994236  1.000000"
      ]
     },
     "execution_count": 336,
     "metadata": {},
     "output_type": "execute_result"
    }
   ],
   "source": [
    "Model_data.corr()"
   ]
  },
  {
   "cell_type": "code",
   "execution_count": 337,
   "metadata": {},
   "outputs": [
    {
     "data": {
      "text/html": [
       "<div>\n",
       "<style scoped>\n",
       "    .dataframe tbody tr th:only-of-type {\n",
       "        vertical-align: middle;\n",
       "    }\n",
       "\n",
       "    .dataframe tbody tr th {\n",
       "        vertical-align: top;\n",
       "    }\n",
       "\n",
       "    .dataframe thead th {\n",
       "        text-align: right;\n",
       "    }\n",
       "</style>\n",
       "<table border=\"1\" class=\"dataframe\">\n",
       "  <thead>\n",
       "    <tr style=\"text-align: right;\">\n",
       "      <th></th>\n",
       "      <th>City Name</th>\n",
       "      <th>Month</th>\n",
       "      <th>Package</th>\n",
       "      <th>Low Price</th>\n",
       "      <th>High Price</th>\n",
       "      <th>Repack</th>\n",
       "      <th>Price</th>\n",
       "    </tr>\n",
       "  </thead>\n",
       "  <tbody>\n",
       "    <tr>\n",
       "      <th>0</th>\n",
       "      <td>ATLANTA</td>\n",
       "      <td>9</td>\n",
       "      <td>24 inch bins</td>\n",
       "      <td>140.0</td>\n",
       "      <td>154.75</td>\n",
       "      <td>N</td>\n",
       "      <td>147.375</td>\n",
       "    </tr>\n",
       "    <tr>\n",
       "      <th>1</th>\n",
       "      <td>ATLANTA</td>\n",
       "      <td>9</td>\n",
       "      <td>24 inch bins</td>\n",
       "      <td>145.0</td>\n",
       "      <td>154.75</td>\n",
       "      <td>N</td>\n",
       "      <td>149.875</td>\n",
       "    </tr>\n",
       "    <tr>\n",
       "      <th>2</th>\n",
       "      <td>ATLANTA</td>\n",
       "      <td>9</td>\n",
       "      <td>24 inch bins</td>\n",
       "      <td>150.0</td>\n",
       "      <td>154.75</td>\n",
       "      <td>N</td>\n",
       "      <td>152.375</td>\n",
       "    </tr>\n",
       "    <tr>\n",
       "      <th>3</th>\n",
       "      <td>ATLANTA</td>\n",
       "      <td>9</td>\n",
       "      <td>24 inch bins</td>\n",
       "      <td>150.0</td>\n",
       "      <td>150.00</td>\n",
       "      <td>N</td>\n",
       "      <td>150.000</td>\n",
       "    </tr>\n",
       "    <tr>\n",
       "      <th>4</th>\n",
       "      <td>ATLANTA</td>\n",
       "      <td>10</td>\n",
       "      <td>24 inch bins</td>\n",
       "      <td>140.0</td>\n",
       "      <td>154.75</td>\n",
       "      <td>N</td>\n",
       "      <td>147.375</td>\n",
       "    </tr>\n",
       "  </tbody>\n",
       "</table>\n",
       "</div>"
      ],
      "text/plain": [
       "  City Name  Month       Package  Low Price  High Price Repack    Price\n",
       "0   ATLANTA      9  24 inch bins      140.0      154.75      N  147.375\n",
       "1   ATLANTA      9  24 inch bins      145.0      154.75      N  149.875\n",
       "2   ATLANTA      9  24 inch bins      150.0      154.75      N  152.375\n",
       "3   ATLANTA      9  24 inch bins      150.0      150.00      N  150.000\n",
       "4   ATLANTA     10  24 inch bins      140.0      154.75      N  147.375"
      ]
     },
     "execution_count": 337,
     "metadata": {},
     "output_type": "execute_result"
    }
   ],
   "source": [
    "Model_data.head(5)"
   ]
  },
  {
   "cell_type": "code",
   "execution_count": 338,
   "metadata": {},
   "outputs": [],
   "source": [
    "New_pumpkins = pd.get_dummies(Model_data, columns= ['Month', 'Package','City Name', 'Repack'])"
   ]
  },
  {
   "cell_type": "code",
   "execution_count": 339,
   "metadata": {},
   "outputs": [
    {
     "data": {
      "text/plain": [
       "Low Price                       0\n",
       "High Price                      0\n",
       "Price                           0\n",
       "Month_1                         0\n",
       "Month_2                         0\n",
       "Month_3                         0\n",
       "Month_4                         0\n",
       "Month_5                         0\n",
       "Month_6                         0\n",
       "Month_7                         0\n",
       "Month_8                         0\n",
       "Month_9                         0\n",
       "Month_10                        0\n",
       "Month_11                        0\n",
       "Month_12                        0\n",
       "Package_1 1/9 bushel cartons    0\n",
       "Package_1 1/9 bushel crates     0\n",
       "Package_1/2 bushel cartons      0\n",
       "Package_20 lb cartons           0\n",
       "Package_22 lb cartons           0\n",
       "Package_24 inch bins            0\n",
       "Package_35 lb cartons           0\n",
       "Package_36 inch bins            0\n",
       "Package_40 lb cartons           0\n",
       "Package_50 lb cartons           0\n",
       "Package_50 lb sacks             0\n",
       "Package_bins                    0\n",
       "Package_bushel baskets          0\n",
       "Package_bushel cartons          0\n",
       "Package_each                    0\n",
       "City Name_ATLANTA               0\n",
       "City Name_BALTIMORE             0\n",
       "City Name_BOSTON                0\n",
       "City Name_CHICAGO               0\n",
       "City Name_COLUMBIA              0\n",
       "City Name_DALLAS                0\n",
       "City Name_DETROIT               0\n",
       "City Name_LOS ANGELES           0\n",
       "City Name_MIAMI                 0\n",
       "City Name_PHILADELPHIA          0\n",
       "City Name_SAN FRANCISCO         0\n",
       "City Name_ST. LOUIS             0\n",
       "Repack_E                        0\n",
       "Repack_N                        0\n",
       "dtype: int64"
      ]
     },
     "execution_count": 339,
     "metadata": {},
     "output_type": "execute_result"
    }
   ],
   "source": [
    "New_pumpkins.isna().sum()"
   ]
  },
  {
   "cell_type": "code",
   "execution_count": 340,
   "metadata": {},
   "outputs": [
    {
     "data": {
      "text/plain": [
       "(521, 44)"
      ]
     },
     "execution_count": 340,
     "metadata": {},
     "output_type": "execute_result"
    }
   ],
   "source": [
    "New_pumpkins.shape"
   ]
  },
  {
   "cell_type": "code",
   "execution_count": 341,
   "metadata": {},
   "outputs": [
    {
     "data": {
      "text/html": [
       "<div>\n",
       "<style scoped>\n",
       "    .dataframe tbody tr th:only-of-type {\n",
       "        vertical-align: middle;\n",
       "    }\n",
       "\n",
       "    .dataframe tbody tr th {\n",
       "        vertical-align: top;\n",
       "    }\n",
       "\n",
       "    .dataframe thead th {\n",
       "        text-align: right;\n",
       "    }\n",
       "</style>\n",
       "<table border=\"1\" class=\"dataframe\">\n",
       "  <thead>\n",
       "    <tr style=\"text-align: right;\">\n",
       "      <th></th>\n",
       "      <th>Low Price</th>\n",
       "      <th>High Price</th>\n",
       "      <th>Price</th>\n",
       "      <th>Month_1</th>\n",
       "      <th>Month_2</th>\n",
       "      <th>Month_3</th>\n",
       "      <th>Month_4</th>\n",
       "      <th>Month_5</th>\n",
       "      <th>Month_6</th>\n",
       "      <th>Month_7</th>\n",
       "      <th>...</th>\n",
       "      <th>City Name_COLUMBIA</th>\n",
       "      <th>City Name_DALLAS</th>\n",
       "      <th>City Name_DETROIT</th>\n",
       "      <th>City Name_LOS ANGELES</th>\n",
       "      <th>City Name_MIAMI</th>\n",
       "      <th>City Name_PHILADELPHIA</th>\n",
       "      <th>City Name_SAN FRANCISCO</th>\n",
       "      <th>City Name_ST. LOUIS</th>\n",
       "      <th>Repack_E</th>\n",
       "      <th>Repack_N</th>\n",
       "    </tr>\n",
       "  </thead>\n",
       "  <tbody>\n",
       "    <tr>\n",
       "      <th>0</th>\n",
       "      <td>140.0</td>\n",
       "      <td>154.75</td>\n",
       "      <td>147.375</td>\n",
       "      <td>0</td>\n",
       "      <td>0</td>\n",
       "      <td>0</td>\n",
       "      <td>0</td>\n",
       "      <td>0</td>\n",
       "      <td>0</td>\n",
       "      <td>0</td>\n",
       "      <td>...</td>\n",
       "      <td>0</td>\n",
       "      <td>0</td>\n",
       "      <td>0</td>\n",
       "      <td>0</td>\n",
       "      <td>0</td>\n",
       "      <td>0</td>\n",
       "      <td>0</td>\n",
       "      <td>0</td>\n",
       "      <td>0</td>\n",
       "      <td>1</td>\n",
       "    </tr>\n",
       "    <tr>\n",
       "      <th>1</th>\n",
       "      <td>145.0</td>\n",
       "      <td>154.75</td>\n",
       "      <td>149.875</td>\n",
       "      <td>0</td>\n",
       "      <td>0</td>\n",
       "      <td>0</td>\n",
       "      <td>0</td>\n",
       "      <td>0</td>\n",
       "      <td>0</td>\n",
       "      <td>0</td>\n",
       "      <td>...</td>\n",
       "      <td>0</td>\n",
       "      <td>0</td>\n",
       "      <td>0</td>\n",
       "      <td>0</td>\n",
       "      <td>0</td>\n",
       "      <td>0</td>\n",
       "      <td>0</td>\n",
       "      <td>0</td>\n",
       "      <td>0</td>\n",
       "      <td>1</td>\n",
       "    </tr>\n",
       "    <tr>\n",
       "      <th>2</th>\n",
       "      <td>150.0</td>\n",
       "      <td>154.75</td>\n",
       "      <td>152.375</td>\n",
       "      <td>0</td>\n",
       "      <td>0</td>\n",
       "      <td>0</td>\n",
       "      <td>0</td>\n",
       "      <td>0</td>\n",
       "      <td>0</td>\n",
       "      <td>0</td>\n",
       "      <td>...</td>\n",
       "      <td>0</td>\n",
       "      <td>0</td>\n",
       "      <td>0</td>\n",
       "      <td>0</td>\n",
       "      <td>0</td>\n",
       "      <td>0</td>\n",
       "      <td>0</td>\n",
       "      <td>0</td>\n",
       "      <td>0</td>\n",
       "      <td>1</td>\n",
       "    </tr>\n",
       "    <tr>\n",
       "      <th>3</th>\n",
       "      <td>150.0</td>\n",
       "      <td>150.00</td>\n",
       "      <td>150.000</td>\n",
       "      <td>0</td>\n",
       "      <td>0</td>\n",
       "      <td>0</td>\n",
       "      <td>0</td>\n",
       "      <td>0</td>\n",
       "      <td>0</td>\n",
       "      <td>0</td>\n",
       "      <td>...</td>\n",
       "      <td>0</td>\n",
       "      <td>0</td>\n",
       "      <td>0</td>\n",
       "      <td>0</td>\n",
       "      <td>0</td>\n",
       "      <td>0</td>\n",
       "      <td>0</td>\n",
       "      <td>0</td>\n",
       "      <td>0</td>\n",
       "      <td>1</td>\n",
       "    </tr>\n",
       "    <tr>\n",
       "      <th>4</th>\n",
       "      <td>140.0</td>\n",
       "      <td>154.75</td>\n",
       "      <td>147.375</td>\n",
       "      <td>0</td>\n",
       "      <td>0</td>\n",
       "      <td>0</td>\n",
       "      <td>0</td>\n",
       "      <td>0</td>\n",
       "      <td>0</td>\n",
       "      <td>0</td>\n",
       "      <td>...</td>\n",
       "      <td>0</td>\n",
       "      <td>0</td>\n",
       "      <td>0</td>\n",
       "      <td>0</td>\n",
       "      <td>0</td>\n",
       "      <td>0</td>\n",
       "      <td>0</td>\n",
       "      <td>0</td>\n",
       "      <td>0</td>\n",
       "      <td>1</td>\n",
       "    </tr>\n",
       "  </tbody>\n",
       "</table>\n",
       "<p>5 rows × 44 columns</p>\n",
       "</div>"
      ],
      "text/plain": [
       "   Low Price  High Price    Price  Month_1  Month_2  Month_3  Month_4  \\\n",
       "0      140.0      154.75  147.375        0        0        0        0   \n",
       "1      145.0      154.75  149.875        0        0        0        0   \n",
       "2      150.0      154.75  152.375        0        0        0        0   \n",
       "3      150.0      150.00  150.000        0        0        0        0   \n",
       "4      140.0      154.75  147.375        0        0        0        0   \n",
       "\n",
       "   Month_5  Month_6  Month_7  ...  City Name_COLUMBIA  City Name_DALLAS  \\\n",
       "0        0        0        0  ...                   0                 0   \n",
       "1        0        0        0  ...                   0                 0   \n",
       "2        0        0        0  ...                   0                 0   \n",
       "3        0        0        0  ...                   0                 0   \n",
       "4        0        0        0  ...                   0                 0   \n",
       "\n",
       "   City Name_DETROIT  City Name_LOS ANGELES  City Name_MIAMI  \\\n",
       "0                  0                      0                0   \n",
       "1                  0                      0                0   \n",
       "2                  0                      0                0   \n",
       "3                  0                      0                0   \n",
       "4                  0                      0                0   \n",
       "\n",
       "   City Name_PHILADELPHIA  City Name_SAN FRANCISCO  City Name_ST. LOUIS  \\\n",
       "0                       0                        0                    0   \n",
       "1                       0                        0                    0   \n",
       "2                       0                        0                    0   \n",
       "3                       0                        0                    0   \n",
       "4                       0                        0                    0   \n",
       "\n",
       "   Repack_E  Repack_N  \n",
       "0         0         1  \n",
       "1         0         1  \n",
       "2         0         1  \n",
       "3         0         1  \n",
       "4         0         1  \n",
       "\n",
       "[5 rows x 44 columns]"
      ]
     },
     "execution_count": 341,
     "metadata": {},
     "output_type": "execute_result"
    }
   ],
   "source": [
    "New_pumpkins.head()"
   ]
  },
  {
   "cell_type": "code",
   "execution_count": 344,
   "metadata": {},
   "outputs": [],
   "source": [
    "X = New_pumpkins.drop('Price', axis=1)\n",
    "y = New_pumpkins['Price']"
   ]
  },
  {
   "cell_type": "code",
   "execution_count": 247,
   "metadata": {},
   "outputs": [],
   "source": [
    "from sklearn import linear_model, model_selection"
   ]
  },
  {
   "cell_type": "code",
   "execution_count": 345,
   "metadata": {},
   "outputs": [],
   "source": [
    "X_train, X_test, y_train, y_test = model_selection.train_test_split(X, y, test_size=0.25)\n",
    "\n"
   ]
  },
  {
   "cell_type": "code",
   "execution_count": 346,
   "metadata": {},
   "outputs": [
    {
     "data": {
      "text/plain": [
       "((390, 43), (390,))"
      ]
     },
     "execution_count": 346,
     "metadata": {},
     "output_type": "execute_result"
    }
   ],
   "source": [
    "X_train.shape, y_train.shape"
   ]
  },
  {
   "cell_type": "code",
   "execution_count": 347,
   "metadata": {},
   "outputs": [
    {
     "data": {
      "text/html": [
       "<style>#sk-container-id-5 {color: black;background-color: white;}#sk-container-id-5 pre{padding: 0;}#sk-container-id-5 div.sk-toggleable {background-color: white;}#sk-container-id-5 label.sk-toggleable__label {cursor: pointer;display: block;width: 100%;margin-bottom: 0;padding: 0.3em;box-sizing: border-box;text-align: center;}#sk-container-id-5 label.sk-toggleable__label-arrow:before {content: \"▸\";float: left;margin-right: 0.25em;color: #696969;}#sk-container-id-5 label.sk-toggleable__label-arrow:hover:before {color: black;}#sk-container-id-5 div.sk-estimator:hover label.sk-toggleable__label-arrow:before {color: black;}#sk-container-id-5 div.sk-toggleable__content {max-height: 0;max-width: 0;overflow: hidden;text-align: left;background-color: #f0f8ff;}#sk-container-id-5 div.sk-toggleable__content pre {margin: 0.2em;color: black;border-radius: 0.25em;background-color: #f0f8ff;}#sk-container-id-5 input.sk-toggleable__control:checked~div.sk-toggleable__content {max-height: 200px;max-width: 100%;overflow: auto;}#sk-container-id-5 input.sk-toggleable__control:checked~label.sk-toggleable__label-arrow:before {content: \"▾\";}#sk-container-id-5 div.sk-estimator input.sk-toggleable__control:checked~label.sk-toggleable__label {background-color: #d4ebff;}#sk-container-id-5 div.sk-label input.sk-toggleable__control:checked~label.sk-toggleable__label {background-color: #d4ebff;}#sk-container-id-5 input.sk-hidden--visually {border: 0;clip: rect(1px 1px 1px 1px);clip: rect(1px, 1px, 1px, 1px);height: 1px;margin: -1px;overflow: hidden;padding: 0;position: absolute;width: 1px;}#sk-container-id-5 div.sk-estimator {font-family: monospace;background-color: #f0f8ff;border: 1px dotted black;border-radius: 0.25em;box-sizing: border-box;margin-bottom: 0.5em;}#sk-container-id-5 div.sk-estimator:hover {background-color: #d4ebff;}#sk-container-id-5 div.sk-parallel-item::after {content: \"\";width: 100%;border-bottom: 1px solid gray;flex-grow: 1;}#sk-container-id-5 div.sk-label:hover label.sk-toggleable__label {background-color: #d4ebff;}#sk-container-id-5 div.sk-serial::before {content: \"\";position: absolute;border-left: 1px solid gray;box-sizing: border-box;top: 0;bottom: 0;left: 50%;z-index: 0;}#sk-container-id-5 div.sk-serial {display: flex;flex-direction: column;align-items: center;background-color: white;padding-right: 0.2em;padding-left: 0.2em;position: relative;}#sk-container-id-5 div.sk-item {position: relative;z-index: 1;}#sk-container-id-5 div.sk-parallel {display: flex;align-items: stretch;justify-content: center;background-color: white;position: relative;}#sk-container-id-5 div.sk-item::before, #sk-container-id-5 div.sk-parallel-item::before {content: \"\";position: absolute;border-left: 1px solid gray;box-sizing: border-box;top: 0;bottom: 0;left: 50%;z-index: -1;}#sk-container-id-5 div.sk-parallel-item {display: flex;flex-direction: column;z-index: 1;position: relative;background-color: white;}#sk-container-id-5 div.sk-parallel-item:first-child::after {align-self: flex-end;width: 50%;}#sk-container-id-5 div.sk-parallel-item:last-child::after {align-self: flex-start;width: 50%;}#sk-container-id-5 div.sk-parallel-item:only-child::after {width: 0;}#sk-container-id-5 div.sk-dashed-wrapped {border: 1px dashed gray;margin: 0 0.4em 0.5em 0.4em;box-sizing: border-box;padding-bottom: 0.4em;background-color: white;}#sk-container-id-5 div.sk-label label {font-family: monospace;font-weight: bold;display: inline-block;line-height: 1.2em;}#sk-container-id-5 div.sk-label-container {text-align: center;}#sk-container-id-5 div.sk-container {/* jupyter's `normalize.less` sets `[hidden] { display: none; }` but bootstrap.min.css set `[hidden] { display: none !important; }` so we also need the `!important` here to be able to override the default hidden behavior on the sphinx rendered scikit-learn.org. See: https://github.com/scikit-learn/scikit-learn/issues/21755 */display: inline-block !important;position: relative;}#sk-container-id-5 div.sk-text-repr-fallback {display: none;}</style><div id=\"sk-container-id-5\" class=\"sk-top-container\"><div class=\"sk-text-repr-fallback\"><pre>LinearRegression()</pre><b>In a Jupyter environment, please rerun this cell to show the HTML representation or trust the notebook. <br />On GitHub, the HTML representation is unable to render, please try loading this page with nbviewer.org.</b></div><div class=\"sk-container\" hidden><div class=\"sk-item\"><div class=\"sk-estimator sk-toggleable\"><input class=\"sk-toggleable__control sk-hidden--visually\" id=\"sk-estimator-id-5\" type=\"checkbox\" checked><label for=\"sk-estimator-id-5\" class=\"sk-toggleable__label sk-toggleable__label-arrow\">LinearRegression</label><div class=\"sk-toggleable__content\"><pre>LinearRegression()</pre></div></div></div></div></div>"
      ],
      "text/plain": [
       "LinearRegression()"
      ]
     },
     "execution_count": 347,
     "metadata": {},
     "output_type": "execute_result"
    }
   ],
   "source": [
    "Model = linear_model.LinearRegression()\n",
    "Model.fit(X_train, y_train)\n"
   ]
  },
  {
   "cell_type": "code",
   "execution_count": 348,
   "metadata": {},
   "outputs": [
    {
     "data": {
      "text/plain": [
       "((131, 43), (131,))"
      ]
     },
     "execution_count": 348,
     "metadata": {},
     "output_type": "execute_result"
    }
   ],
   "source": [
    "X_test.shape, y_test.shape\n"
   ]
  },
  {
   "cell_type": "code",
   "execution_count": 352,
   "metadata": {},
   "outputs": [
    {
     "name": "stdout",
     "output_type": "stream",
     "text": [
      "Predicted labels:  [143. 160.   0.  16. 129. 274.  32. 272.  18.  30.]\n",
      "Actual labels   :  12      142.50\n",
      "59      160.00\n",
      "1289      0.24\n",
      "702      16.20\n",
      "45      129.25\n",
      "1592    275.00\n",
      "1502     32.50\n",
      "354     272.50\n",
      "1352     18.00\n",
      "1512     30.00\n",
      "Name: Price, dtype: float64\n"
     ]
    }
   ],
   "source": [
    "Prediction = Model.predict(X_test)\n",
    "np.set_printoptions(suppress=True)\n",
    "print('Predicted labels: ', np.round(Prediction)[:10])\n",
    "print('Actual labels   : ' ,y_test[:10])\n"
   ]
  },
  {
   "cell_type": "code",
   "execution_count": 354,
   "metadata": {},
   "outputs": [
    {
     "data": {
      "text/html": [
       "<div>\n",
       "<style scoped>\n",
       "    .dataframe tbody tr th:only-of-type {\n",
       "        vertical-align: middle;\n",
       "    }\n",
       "\n",
       "    .dataframe tbody tr th {\n",
       "        vertical-align: top;\n",
       "    }\n",
       "\n",
       "    .dataframe thead th {\n",
       "        text-align: right;\n",
       "    }\n",
       "</style>\n",
       "<table border=\"1\" class=\"dataframe\">\n",
       "  <thead>\n",
       "    <tr style=\"text-align: right;\">\n",
       "      <th></th>\n",
       "      <th>predicted</th>\n",
       "      <th>actual</th>\n",
       "      <th>error</th>\n",
       "    </tr>\n",
       "  </thead>\n",
       "  <tbody>\n",
       "    <tr>\n",
       "      <th>12</th>\n",
       "      <td>143.0</td>\n",
       "      <td>142.50</td>\n",
       "      <td>0.016848</td>\n",
       "    </tr>\n",
       "    <tr>\n",
       "      <th>59</th>\n",
       "      <td>160.0</td>\n",
       "      <td>160.00</td>\n",
       "      <td>-0.036516</td>\n",
       "    </tr>\n",
       "    <tr>\n",
       "      <th>1289</th>\n",
       "      <td>0.0</td>\n",
       "      <td>0.24</td>\n",
       "      <td>0.069714</td>\n",
       "    </tr>\n",
       "    <tr>\n",
       "      <th>702</th>\n",
       "      <td>16.0</td>\n",
       "      <td>16.20</td>\n",
       "      <td>0.017549</td>\n",
       "    </tr>\n",
       "    <tr>\n",
       "      <th>45</th>\n",
       "      <td>129.0</td>\n",
       "      <td>129.25</td>\n",
       "      <td>0.030045</td>\n",
       "    </tr>\n",
       "    <tr>\n",
       "      <th>1592</th>\n",
       "      <td>274.0</td>\n",
       "      <td>275.00</td>\n",
       "      <td>-1.212351</td>\n",
       "    </tr>\n",
       "    <tr>\n",
       "      <th>1502</th>\n",
       "      <td>32.0</td>\n",
       "      <td>32.50</td>\n",
       "      <td>-0.001967</td>\n",
       "    </tr>\n",
       "    <tr>\n",
       "      <th>354</th>\n",
       "      <td>272.0</td>\n",
       "      <td>272.50</td>\n",
       "      <td>-0.114174</td>\n",
       "    </tr>\n",
       "    <tr>\n",
       "      <th>1352</th>\n",
       "      <td>18.0</td>\n",
       "      <td>18.00</td>\n",
       "      <td>0.177297</td>\n",
       "    </tr>\n",
       "    <tr>\n",
       "      <th>1512</th>\n",
       "      <td>30.0</td>\n",
       "      <td>30.00</td>\n",
       "      <td>0.009865</td>\n",
       "    </tr>\n",
       "  </tbody>\n",
       "</table>\n",
       "</div>"
      ],
      "text/plain": [
       "      predicted  actual     error\n",
       "12        143.0  142.50  0.016848\n",
       "59        160.0  160.00 -0.036516\n",
       "1289        0.0    0.24  0.069714\n",
       "702        16.0   16.20  0.017549\n",
       "45        129.0  129.25  0.030045\n",
       "1592      274.0  275.00 -1.212351\n",
       "1502       32.0   32.50 -0.001967\n",
       "354       272.0  272.50 -0.114174\n",
       "1352       18.0   18.00  0.177297\n",
       "1512       30.0   30.00  0.009865"
      ]
     },
     "execution_count": 354,
     "metadata": {},
     "output_type": "execute_result"
    }
   ],
   "source": [
    "table = pd.DataFrame(\n",
    "    {'predicted': np.round(Prediction), 'actual': y_test, 'error': (Prediction - y_test)})\n",
    "table.head(10)\n",
    "\n",
    "\n"
   ]
  },
  {
   "cell_type": "code",
   "execution_count": 356,
   "metadata": {},
   "outputs": [
    {
     "data": {
      "image/png": "[encoded data removed]",
      "text/plain": [
       "<Figure size 432x288 with 1 Axes>"
      ]
     },
     "metadata": {
      "needs_background": "light"
     },
     "output_type": "display_data"
    }
   ],
   "source": [
    "plt.scatter(y_test, Prediction)\n",
    "plt.xlabel('Actual Labels')\n",
    "plt.ylabel('Predicted Labels')\n",
    "plt.title('Pumpkins Price Prediction')\n",
    "# overlay the regression line\n",
    "z = np.polyfit(y_test, Prediction, 1)\n",
    "p = np.poly1d(z)\n",
    "plt.plot(y_test, p(y_test), color='magenta')\n",
    "plt.show()\n"
   ]
  },
  {
   "cell_type": "code",
   "execution_count": 358,
   "metadata": {},
   "outputs": [
    {
     "name": "stdout",
     "output_type": "stream",
     "text": [
      "MSE: 0.4754788655850882\n",
      "RMSE: 0.6895497556993898\n",
      "R2: 0.9999326323168393\n"
     ]
    }
   ],
   "source": [
    "from sklearn.metrics import mean_squared_error, r2_score\n",
    "\n",
    "mse = mean_squared_error(y_test, Prediction)\n",
    "print(\"MSE:\", mse)\n",
    "\n",
    "rmse = np.sqrt(mse)\n",
    "print(\"RMSE:\", rmse)\n",
    "\n",
    "r2 = r2_score(y_test, Prediction)\n",
    "print(\"R2:\", r2)\n"
   ]
  },
  {
   "cell_type": "markdown",
   "metadata": {},
   "source": [
    "## We see that increase in the size of data increase our prediction"
   ]
  },
  {
   "cell_type": "code",
   "execution_count": null,
   "metadata": {},
   "outputs": [],
   "source": []
  }
 ],
 "metadata": {
  "kernelspec": {
   "display_name": "Python 3.10.4 64-bit",
   "language": "python",
   "name": "python3"
  },
  "language_info": {
   "codemirror_mode": {
    "name": "ipython",
    "version": 3
   },
   "file_extension": ".py",
   "mimetype": "text/x-python",
   "name": "python",
   "nbconvert_exporter": "python",
   "pygments_lexer": "ipython3",
   "version": "3.10.4"
  },
  "orig_nbformat": 4,
  "vscode": {
   "interpreter": {
    "hash": "bced385cd38f8369a88d3898e3e30fbea812f881ff58b064b949c770763d3f09"
   }
  }
 },
 "nbformat": 4,
 "nbformat_minor": 2
}
